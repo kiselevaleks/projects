{
 "cells": [
  {
   "cell_type": "markdown",
   "metadata": {},
   "source": [
    "## Исследование надёжности заёмщиков\n",
    "\n",
    "Заказчик — кредитный отдел банка. Нужно разобраться, влияет ли семейное положение и количество детей клиента на факт погашения кредита в срок. Входные данные от банка — статистика о платёжеспособности клиентов.\n",
    "\n",
    "Результаты исследования будут учтены при построении модели **кредитного скоринга** — специальной системы, которая оценивает способность потенциального заёмщика вернуть кредит банку."
   ]
  },
  {
   "cell_type": "markdown",
   "metadata": {},
   "source": [
    "### Шаг 1. Откройте файл с данными и изучите общую информацию. "
   ]
  },
  {
   "cell_type": "code",
   "execution_count": 69,
   "metadata": {
    "scrolled": true
   },
   "outputs": [],
   "source": [
    "import pandas as pd #импорт библиотек\n",
    "import numpy as np\n",
    "from pymystem3 import Mystem\n",
    "from collections import Counter\n",
    "m = Mystem()"
   ]
  },
  {
   "cell_type": "code",
   "execution_count": 70,
   "metadata": {},
   "outputs": [
    {
     "name": "stdout",
     "output_type": "stream",
     "text": [
      "   children  days_employed  dob_years education  education_id  \\\n",
      "0         1   -8437.673028         42    высшее             0   \n",
      "1         1   -4024.803754         36   среднее             1   \n",
      "2         0   -5623.422610         33   Среднее             1   \n",
      "3         3   -4124.747207         32   среднее             1   \n",
      "4         0  340266.072047         53   среднее             1   \n",
      "5         0    -926.185831         27    высшее             0   \n",
      "6         0   -2879.202052         43    высшее             0   \n",
      "7         0    -152.779569         50   СРЕДНЕЕ             1   \n",
      "8         2   -6929.865299         35    ВЫСШЕЕ             0   \n",
      "9         0   -2188.756445         41   среднее             1   \n",
      "\n",
      "      family_status  family_status_id gender income_type  debt   total_income  \\\n",
      "0   женат / замужем                 0      F   сотрудник     0  253875.639453   \n",
      "1   женат / замужем                 0      F   сотрудник     0  112080.014102   \n",
      "2   женат / замужем                 0      M   сотрудник     0  145885.952297   \n",
      "3   женат / замужем                 0      M   сотрудник     0  267628.550329   \n",
      "4  гражданский брак                 1      F   пенсионер     0  158616.077870   \n",
      "5  гражданский брак                 1      M   компаньон     0  255763.565419   \n",
      "6   женат / замужем                 0      F   компаньон     0  240525.971920   \n",
      "7   женат / замужем                 0      M   сотрудник     0  135823.934197   \n",
      "8  гражданский брак                 1      F   сотрудник     0   95856.832424   \n",
      "9   женат / замужем                 0      M   сотрудник     0  144425.938277   \n",
      "\n",
      "                      purpose  \n",
      "0               покупка жилья  \n",
      "1     приобретение автомобиля  \n",
      "2               покупка жилья  \n",
      "3  дополнительное образование  \n",
      "4             сыграть свадьбу  \n",
      "5               покупка жилья  \n",
      "6           операции с жильем  \n",
      "7                 образование  \n",
      "8       на проведение свадьбы  \n",
      "9     покупка жилья для семьи  \n",
      "<class 'pandas.core.frame.DataFrame'>\n",
      "RangeIndex: 21525 entries, 0 to 21524\n",
      "Data columns (total 12 columns):\n",
      "children            21525 non-null int64\n",
      "days_employed       19351 non-null float64\n",
      "dob_years           21525 non-null int64\n",
      "education           21525 non-null object\n",
      "education_id        21525 non-null int64\n",
      "family_status       21525 non-null object\n",
      "family_status_id    21525 non-null int64\n",
      "gender              21525 non-null object\n",
      "income_type         21525 non-null object\n",
      "debt                21525 non-null int64\n",
      "total_income        19351 non-null float64\n",
      "purpose             21525 non-null object\n",
      "dtypes: float64(2), int64(5), object(5)\n",
      "memory usage: 2.0+ MB\n"
     ]
    }
   ],
   "source": [
    "df = pd.read_csv('/datasets/data.csv') #прочитаем предоставленный файл с данными\n",
    "print(df.head(10)) #получение первых  строк таблицы\n",
    "df.info() #общая информация о данных таблицы"
   ]
  },
  {
   "cell_type": "markdown",
   "metadata": {},
   "source": [
    "### Вывод"
   ]
  },
  {
   "cell_type": "markdown",
   "metadata": {},
   "source": [
    "Рассмотрим полученную информацию подробнее.\n",
    "\n",
    "Всего в таблице 12 столбцов, типы данных - float64, int64, object.\n",
    "\n",
    "Подробно разберем какие в data столбцы и какую информацию они содержат:\n",
    "\n",
    "children — количество детей в семье\n",
    "days_employed — общий трудовой стаж в днях\n",
    "dob_years — возраст клиента в годах\n",
    "education — уровень образования клиента\n",
    "education_id — идентификатор уровня образования\n",
    "family_status — семейное положение\n",
    "family_status_id — идентификатор семейного положения\n",
    "gender — пол клиента\n",
    "income_type — тип занятости\n",
    "debt — имел ли задолженность по возврату кредитов\n",
    "total_income — ежемесячный доход\n",
    "purpose — цель получения кредита\n",
    "\n",
    "Количество значений в столбцах отличается. Это говорит о том, что в данных есть пропущенные значения.\n",
    "\n",
    "Каждая строка таблицы содержит информацию о семейном положении, трудовом стаже, образовании и прочей информации из статистики о платёжеспособности клиентов банка. Для проверки рабочих гипотез сначала нужно решить следующие проблемы:\n",
    "1. Определить и заполнить пропущенные занчения\n",
    "2. Заменить вещественный тип данных на целочисленный\n",
    "3. Удалить дубликаты\n",
    "4. Выделить леммы в столбце \"цели получения кредита\"\n",
    "5. Категоризировать данные"
   ]
  },
  {
   "cell_type": "markdown",
   "metadata": {},
   "source": [
    "### Шаг 2. Предобработка данных"
   ]
  },
  {
   "cell_type": "markdown",
   "metadata": {},
   "source": [
    "### Обработка пропусков"
   ]
  },
  {
   "cell_type": "code",
   "execution_count": 71,
   "metadata": {
    "scrolled": true
   },
   "outputs": [],
   "source": [
    "df['days_employed'] = df['days_employed'].fillna(0) \n",
    "df['total_income'] = df['total_income'].fillna(0)\n",
    "df.isnull().sum() #проверим количество пропусков\n",
    "\n",
    "#заменим все отрицательные значения в столбце трудовой стаж на положительные\n",
    "for element in df['days_employed']:\n",
    "    if element < 0:\n",
    "        new_element = element*-1\n",
    "        df['days_employed'] = df['days_employed'].replace(element, new_element)\n",
    "\n",
    "#преобразуем трудовой стаж в дни\n",
    "def new_days_employed(row):\n",
    "    old_days_employed = row['days_employed']\n",
    "    new_days_employed = row['days_employed']/24\n",
    "    \n",
    "    if old_days_employed > 21000: #максимальный возраст 75 лет (минус 18) - примерно 21000 дней \n",
    "        return  new_days_employed\n",
    "    return old_days_employed\n",
    "\n",
    "#замена столбца возраст с учетом полученных данных\n",
    "df['additional_days_employed'] = df.apply(new_days_employed, axis=1)\n",
    "df['days_employed'] = df['additional_days_employed']\n",
    "df = df.drop('additional_days_employed', 1)"
   ]
  },
  {
   "cell_type": "markdown",
   "metadata": {},
   "source": [
    "### Вывод"
   ]
  },
  {
   "cell_type": "markdown",
   "metadata": {},
   "source": [
    "Были обнаружены пропуски в столбцах трудовой стаж и ежемесячный доход. Данные в столбцах могли быть пропущены случайно (во время выгрузки) или специально (человеческий фактор/могли просто не заполнить данные поля). Произвелена заменена нулевыми значениями с целью дальнейшей работы с данными столбцами. Так же отрицательные значения трудового стажа были заменены на положительные, а значения, которые превышали допустимые значения (вероятно, в системе они отражались как часы, а не как дни) переведены в дни. Обработка пропусков в столбцах возраст и доход будет произведена после проверки уникальных значений."
   ]
  },
  {
   "cell_type": "markdown",
   "metadata": {},
   "source": [
    "### Замена типа данных"
   ]
  },
  {
   "cell_type": "code",
   "execution_count": 72,
   "metadata": {},
   "outputs": [],
   "source": [
    "df['days_employed'] = df['days_employed'].astype(int)\n",
    "df['total_income'] = df['total_income'].astype(int)"
   ]
  },
  {
   "cell_type": "markdown",
   "metadata": {},
   "source": [
    "### Вывод"
   ]
  },
  {
   "cell_type": "markdown",
   "metadata": {},
   "source": [
    "Столбцы были трудовой стаж и ежемесячный доход приведены к целочисленым значениям для удобства отображения и расчетов."
   ]
  },
  {
   "cell_type": "markdown",
   "metadata": {},
   "source": [
    "### Обработка дубликатов"
   ]
  },
  {
   "cell_type": "code",
   "execution_count": 73,
   "metadata": {},
   "outputs": [
    {
     "name": "stdout",
     "output_type": "stream",
     "text": [
      "54\n"
     ]
    },
    {
     "name": "stderr",
     "output_type": "stream",
     "text": [
      "/opt/conda/lib/python3.7/site-packages/ipykernel_launcher.py:50: UserWarning: Boolean Series key will be reindexed to match DataFrame index.\n"
     ]
    }
   ],
   "source": [
    "#обработка дубликатов\n",
    "print(df.duplicated().sum())\n",
    "df = df.drop_duplicates().reset_index(drop = True)\n",
    "\n",
    "#Поиск уникальных значений для каждого из столбцов с категориальными переменными (вывод закомментирован для удобства отображения)\n",
    "#print(df['children'].unique())\n",
    "df.loc[df['children'] == -1, 'children'] = 1 #отрицательного кол-ва детей быть не может, поэтому значение изменено на аналогичное положительное\n",
    "df.loc[df['children'] == 20, 'children'] = 2 #вероятно, здесь допущена опечатка, произведена замена на подходящее по смыслу значение\n",
    "\n",
    "#print(df['dob_years'].unique())\n",
    "\n",
    "#обработка нулевых значений в столбце возраст \n",
    "\n",
    "def new_age_count(row):\n",
    "    age = row['dob_years']\n",
    "    new_days_employed = 18 + row['days_employed']/365\n",
    "    \n",
    "    if age == 0:\n",
    "        if row['days_employed'] > 0:\n",
    "            return  new_days_employed\n",
    "    return age\n",
    "\n",
    "df['additional_age'] = df.apply(new_age_count, axis=1)\n",
    "\n",
    "df['dob_years'] = df['additional_age']\n",
    "df = df.drop('additional_age', 1)\n",
    "\n",
    "#print(df[df['dob_years'] == 0 ].count())\n",
    "\n",
    "#print(df['education'].unique())\n",
    "\n",
    "df['education_lowercase'] = df['education'].str.lower()\n",
    "\n",
    "#print(df['family_status'].unique())\n",
    "\n",
    "#print(df['family_status_id'].unique())\n",
    "\n",
    "#print(df.groupby('family_status')['family_status_id'].value_counts())\n",
    "\n",
    "#print(df['gender'].unique())\n",
    "df['gender'] = df['gender'].replace('XNA', 'M') # предположитеьно мужчина\n",
    "#print(df['income_type'].unique())\n",
    "#print(df['debt'].unique())\n",
    "\n",
    "#обработка пропущеных значений в столбце доход\n",
    "\n",
    "def new_total_income_count(row):\n",
    "    income_type = row['income_type']\n",
    "    total_income = row['total_income']\n",
    "    mean_income = df[df['income_type'] == income_type][df['total_income'] != 0]['total_income'].mean()\n",
    "    if total_income > 0:\n",
    "        return  total_income\n",
    "    else:\n",
    "        return mean_income\n",
    "\n",
    "df['new_total_income'] = df.apply(new_total_income_count, axis=1)\n",
    "\n",
    "#обработка пропущеных значений в столбце стаж\n",
    "\n",
    "def new_days_employed_count(row):\n",
    "    employed = row['days_employed']\n",
    "    age = row['dob_years']\n",
    "    new_days_employed = (age - 18)*365\n",
    "    \n",
    "    if employed > 0:\n",
    "        return  employed\n",
    "    else:\n",
    "        return new_days_employed\n",
    "\n",
    "df['new_days_employed'] = df.apply(new_days_employed_count, axis=1)"
   ]
  },
  {
   "cell_type": "markdown",
   "metadata": {},
   "source": [
    "### Вывод"
   ]
  },
  {
   "cell_type": "markdown",
   "metadata": {},
   "source": [
    "В таблице найдено 54 дибликата, что составляет менее 1% данных, поэтому удаляем эти строки.\n",
    "В столбце \"дети\" были обработаны артефакты.\n",
    "\n",
    "Пустые столбцы возраст были обработаны с учетом трудового стажа. Оставшиеся 10 (с нулевым возрастом и трудовым стажем) строк будут обработы после создания категорий.\n",
    "\n",
    "Соотношение образования с категорией:\n",
    "education            \n",
    "education_id\n",
    "\n",
    "высшее               0                \n",
    "начальное            3                 \n",
    "неоконченное высшее  2                \n",
    "среднее              1               \n",
    "ученая степень       4\n",
    "\n",
    "\n",
    "family_status          family_status_id\n",
    "\n",
    "в разводе              3                    \n",
    "вдовец / вдова         2                     \n",
    "гражданский брак       1                    \n",
    "женат / замужем        0                   \n",
    "не женат / не замужем  4     \n",
    "\n",
    "\n",
    "Единственная запись XNA - возраст 24 года/трудовой стаж 6.5 лет/2-е детей, предположитеьно мужчина.\n",
    "\n",
    "Данные в остальных столбцах в пределах нормы.\n",
    "\n",
    "Пропущеные значения в столбце \"ежемесяцный доход\" были обработаны в соответствии с категориями зантости.\n",
    "\n",
    "Пропущенные значения в столбце трудовой стаж были сопоставлены с возрастом и отражены в таблице."
   ]
  },
  {
   "cell_type": "markdown",
   "metadata": {},
   "source": [
    "### Лемматизация"
   ]
  },
  {
   "cell_type": "code",
   "execution_count": 74,
   "metadata": {},
   "outputs": [],
   "source": [
    "#print(df['purpose'].unique())\n",
    "\n",
    "def purpose_lemmas(row):\n",
    "    text = row['purpose']\n",
    "    lemmas = ' '.join(m.lemmatize(text))\n",
    "    return lemmas\n",
    "    \n",
    "df['purpose_after_lemmas'] = df.apply(purpose_lemmas, axis =1)\n",
    "\n",
    "#print(df['purpose_after_lemmas'].unique())"
   ]
  },
  {
   "cell_type": "markdown",
   "metadata": {},
   "source": [
    "### Вывод"
   ]
  },
  {
   "cell_type": "markdown",
   "metadata": {},
   "source": [
    "Для удобства категоризации целей получения кредита была произведена лемматизация данных в столбце \"цели\".\n",
    "\n",
    "Основные категории:\n",
    "\n",
    "Приобретение/действия с жильем/недвижимостью \n",
    "Покупка автомобиля \n",
    "Получение образования\n",
    "Оплата свадебного торжества"
   ]
  },
  {
   "cell_type": "markdown",
   "metadata": {},
   "source": [
    "### Категоризация данных"
   ]
  },
  {
   "cell_type": "code",
   "execution_count": 75,
   "metadata": {},
   "outputs": [],
   "source": [
    "#функция для сортировки целей кредитования по категориям\n",
    "def purpose_to_category(row):\n",
    "    purpose = row['purpose_after_lemmas']\n",
    "    if 'жилье' in purpose:\n",
    "        category = 1\n",
    "    elif 'недвижимость' in purpose:\n",
    "        category = 1\n",
    "    elif 'автомобиль' in purpose:\n",
    "        category = 2\n",
    "    elif 'образование' in purpose:\n",
    "        category = 3\n",
    "    elif 'свадьба' in purpose:\n",
    "        category = 4\n",
    "    else:\n",
    "        category = 0\n",
    "    return category\n",
    "    \n",
    "df['purpose_category'] = df.apply(purpose_to_category, axis =1)\n",
    "\n",
    "#разбивка доходов по категориям \n",
    "df['new_total_income'] = df['new_total_income'].astype(int)\n",
    "\n",
    "import numpy as np\n",
    "sum_income = df['new_total_income']\n",
    "a = np.array(sum_income)\n",
    "category1 = np.percentile(a, 13.4)\n",
    "category2 = np.percentile(a, 41.2)\n",
    "category3 = np.percentile(a, 80)\n",
    "category4 = np.percentile(a, 90.9)\n",
    "category5 = np.percentile(a, 98.2)\n",
    "category6 = np.percentile(a, 99.3)\n",
    "\n",
    "def income_to_category(row):\n",
    "    \n",
    "    income = row['new_total_income']\n",
    "   \n",
    "    if income < category1:\n",
    "        income_category = 'крайне нищие'\n",
    "    elif category1 <= income < category2:\n",
    "        income_category = 'нищие'\n",
    "    elif category2 <= income < category3:\n",
    "        income_category = 'бедные'\n",
    "    elif category3 <= income < category4:\n",
    "        income_category = 'ниже среднего'\n",
    "    elif category4 <= income < category5:\n",
    "        income_category = 'средний достаток'\n",
    "    elif category5 <= income < category6:\n",
    "        income_category = 'состоятельные'\n",
    "    elif income >= category6:\n",
    "        income_category = 'богатые'\n",
    "    else:\n",
    "        income_category = 'none'\n",
    "    return income_category\n",
    "\n",
    "    \n",
    "df['income_category'] = df.apply(income_to_category, axis =1)"
   ]
  },
  {
   "cell_type": "markdown",
   "metadata": {},
   "source": [
    "### Вывод"
   ]
  },
  {
   "cell_type": "markdown",
   "metadata": {},
   "source": [
    "Категориям целей крдитования были присвоены индексы для удобства отображения. \n",
    "\n",
    "Информация о доходах была категоризирована в семи категориях (данные соотнесены с процентным соством общества по доходам в РФ за 2018 год)."
   ]
  },
  {
   "cell_type": "markdown",
   "metadata": {},
   "source": [
    "### Шаг 3. Ответьте на вопросы"
   ]
  },
  {
   "cell_type": "markdown",
   "metadata": {},
   "source": [
    "- Есть ли зависимость между наличием детей и возвратом кредита в срок?"
   ]
  },
  {
   "cell_type": "code",
   "execution_count": 76,
   "metadata": {},
   "outputs": [
    {
     "data": {
      "text/html": [
       "<div>\n",
       "<style scoped>\n",
       "    .dataframe tbody tr th:only-of-type {\n",
       "        vertical-align: middle;\n",
       "    }\n",
       "\n",
       "    .dataframe tbody tr th {\n",
       "        vertical-align: top;\n",
       "    }\n",
       "\n",
       "    .dataframe thead th {\n",
       "        text-align: right;\n",
       "    }\n",
       "</style>\n",
       "<table border=\"1\" class=\"dataframe\">\n",
       "  <thead>\n",
       "    <tr style=\"text-align: right;\">\n",
       "      <th></th>\n",
       "      <th>count</th>\n",
       "      <th>mean</th>\n",
       "    </tr>\n",
       "    <tr>\n",
       "      <th>children</th>\n",
       "      <th></th>\n",
       "      <th></th>\n",
       "    </tr>\n",
       "  </thead>\n",
       "  <tbody>\n",
       "    <tr>\n",
       "      <td>0</td>\n",
       "      <td>14107</td>\n",
       "      <td>0.075353</td>\n",
       "    </tr>\n",
       "    <tr>\n",
       "      <td>1</td>\n",
       "      <td>4856</td>\n",
       "      <td>0.091639</td>\n",
       "    </tr>\n",
       "    <tr>\n",
       "      <td>2</td>\n",
       "      <td>2128</td>\n",
       "      <td>0.094925</td>\n",
       "    </tr>\n",
       "    <tr>\n",
       "      <td>3</td>\n",
       "      <td>330</td>\n",
       "      <td>0.081818</td>\n",
       "    </tr>\n",
       "    <tr>\n",
       "      <td>4</td>\n",
       "      <td>41</td>\n",
       "      <td>0.097561</td>\n",
       "    </tr>\n",
       "    <tr>\n",
       "      <td>5</td>\n",
       "      <td>9</td>\n",
       "      <td>0.000000</td>\n",
       "    </tr>\n",
       "  </tbody>\n",
       "</table>\n",
       "</div>"
      ],
      "text/plain": [
       "          count      mean\n",
       "children                 \n",
       "0         14107  0.075353\n",
       "1          4856  0.091639\n",
       "2          2128  0.094925\n",
       "3           330  0.081818\n",
       "4            41  0.097561\n",
       "5             9  0.000000"
      ]
     },
     "execution_count": 76,
     "metadata": {},
     "output_type": "execute_result"
    }
   ],
   "source": [
    "df.groupby('children')['debt'].agg(['count','mean'])"
   ]
  },
  {
   "cell_type": "markdown",
   "metadata": {},
   "source": [
    "### Вывод"
   ]
  },
  {
   "cell_type": "markdown",
   "metadata": {},
   "source": [
    "Наличие детей не влияет на возврат кредита в срок."
   ]
  },
  {
   "cell_type": "markdown",
   "metadata": {},
   "source": [
    "- Есть ли зависимость между семейным положением и возвратом кредита в срок?"
   ]
  },
  {
   "cell_type": "code",
   "execution_count": 77,
   "metadata": {},
   "outputs": [
    {
     "data": {
      "text/html": [
       "<div>\n",
       "<style scoped>\n",
       "    .dataframe tbody tr th:only-of-type {\n",
       "        vertical-align: middle;\n",
       "    }\n",
       "\n",
       "    .dataframe tbody tr th {\n",
       "        vertical-align: top;\n",
       "    }\n",
       "\n",
       "    .dataframe thead th {\n",
       "        text-align: right;\n",
       "    }\n",
       "</style>\n",
       "<table border=\"1\" class=\"dataframe\">\n",
       "  <thead>\n",
       "    <tr style=\"text-align: right;\">\n",
       "      <th></th>\n",
       "      <th>count</th>\n",
       "      <th>mean</th>\n",
       "    </tr>\n",
       "    <tr>\n",
       "      <th>family_status</th>\n",
       "      <th></th>\n",
       "      <th></th>\n",
       "    </tr>\n",
       "  </thead>\n",
       "  <tbody>\n",
       "    <tr>\n",
       "      <td>Не женат / не замужем</td>\n",
       "      <td>2810</td>\n",
       "      <td>0.097509</td>\n",
       "    </tr>\n",
       "    <tr>\n",
       "      <td>в разводе</td>\n",
       "      <td>1195</td>\n",
       "      <td>0.071130</td>\n",
       "    </tr>\n",
       "    <tr>\n",
       "      <td>вдовец / вдова</td>\n",
       "      <td>959</td>\n",
       "      <td>0.065693</td>\n",
       "    </tr>\n",
       "    <tr>\n",
       "      <td>гражданский брак</td>\n",
       "      <td>4163</td>\n",
       "      <td>0.093202</td>\n",
       "    </tr>\n",
       "    <tr>\n",
       "      <td>женат / замужем</td>\n",
       "      <td>12344</td>\n",
       "      <td>0.075421</td>\n",
       "    </tr>\n",
       "  </tbody>\n",
       "</table>\n",
       "</div>"
      ],
      "text/plain": [
       "                       count      mean\n",
       "family_status                         \n",
       "Не женат / не замужем   2810  0.097509\n",
       "в разводе               1195  0.071130\n",
       "вдовец / вдова           959  0.065693\n",
       "гражданский брак        4163  0.093202\n",
       "женат / замужем        12344  0.075421"
      ]
     },
     "metadata": {},
     "output_type": "display_data"
    },
    {
     "data": {
      "text/html": [
       "<div>\n",
       "<style scoped>\n",
       "    .dataframe tbody tr th:only-of-type {\n",
       "        vertical-align: middle;\n",
       "    }\n",
       "\n",
       "    .dataframe tbody tr th {\n",
       "        vertical-align: top;\n",
       "    }\n",
       "\n",
       "    .dataframe thead tr th {\n",
       "        text-align: left;\n",
       "    }\n",
       "\n",
       "    .dataframe thead tr:last-of-type th {\n",
       "        text-align: right;\n",
       "    }\n",
       "</style>\n",
       "<table border=\"1\" class=\"dataframe\">\n",
       "  <thead>\n",
       "    <tr>\n",
       "      <th></th>\n",
       "      <th colspan=\"6\" halign=\"left\">mean</th>\n",
       "      <th colspan=\"6\" halign=\"left\">count</th>\n",
       "    </tr>\n",
       "    <tr>\n",
       "      <th></th>\n",
       "      <th colspan=\"6\" halign=\"left\">debt</th>\n",
       "      <th colspan=\"6\" halign=\"left\">debt</th>\n",
       "    </tr>\n",
       "    <tr>\n",
       "      <th>children</th>\n",
       "      <th>0</th>\n",
       "      <th>1</th>\n",
       "      <th>2</th>\n",
       "      <th>3</th>\n",
       "      <th>4</th>\n",
       "      <th>5</th>\n",
       "      <th>0</th>\n",
       "      <th>1</th>\n",
       "      <th>2</th>\n",
       "      <th>3</th>\n",
       "      <th>4</th>\n",
       "      <th>5</th>\n",
       "    </tr>\n",
       "    <tr>\n",
       "      <th>family_status</th>\n",
       "      <th></th>\n",
       "      <th></th>\n",
       "      <th></th>\n",
       "      <th></th>\n",
       "      <th></th>\n",
       "      <th></th>\n",
       "      <th></th>\n",
       "      <th></th>\n",
       "      <th></th>\n",
       "      <th></th>\n",
       "      <th></th>\n",
       "      <th></th>\n",
       "    </tr>\n",
       "  </thead>\n",
       "  <tbody>\n",
       "    <tr>\n",
       "      <td>Не женат / не замужем</td>\n",
       "      <td>0.092838</td>\n",
       "      <td>0.114537</td>\n",
       "      <td>0.119048</td>\n",
       "      <td>0.125000</td>\n",
       "      <td>0.500000</td>\n",
       "      <td>NaN</td>\n",
       "      <td>2262.0</td>\n",
       "      <td>454.0</td>\n",
       "      <td>84.0</td>\n",
       "      <td>8.0</td>\n",
       "      <td>2.0</td>\n",
       "      <td>NaN</td>\n",
       "    </tr>\n",
       "    <tr>\n",
       "      <td>в разводе</td>\n",
       "      <td>0.070153</td>\n",
       "      <td>0.066456</td>\n",
       "      <td>0.096386</td>\n",
       "      <td>0.090909</td>\n",
       "      <td>0.000000</td>\n",
       "      <td>NaN</td>\n",
       "      <td>784.0</td>\n",
       "      <td>316.0</td>\n",
       "      <td>83.0</td>\n",
       "      <td>11.0</td>\n",
       "      <td>1.0</td>\n",
       "      <td>NaN</td>\n",
       "    </tr>\n",
       "    <tr>\n",
       "      <td>вдовец / вдова</td>\n",
       "      <td>0.062574</td>\n",
       "      <td>0.086420</td>\n",
       "      <td>0.125000</td>\n",
       "      <td>0.000000</td>\n",
       "      <td>0.000000</td>\n",
       "      <td>NaN</td>\n",
       "      <td>847.0</td>\n",
       "      <td>81.0</td>\n",
       "      <td>24.0</td>\n",
       "      <td>6.0</td>\n",
       "      <td>1.0</td>\n",
       "      <td>NaN</td>\n",
       "    </tr>\n",
       "    <tr>\n",
       "      <td>гражданский брак</td>\n",
       "      <td>0.083546</td>\n",
       "      <td>0.117882</td>\n",
       "      <td>0.092958</td>\n",
       "      <td>0.142857</td>\n",
       "      <td>0.000000</td>\n",
       "      <td>0.0</td>\n",
       "      <td>2741.0</td>\n",
       "      <td>1001.0</td>\n",
       "      <td>355.0</td>\n",
       "      <td>56.0</td>\n",
       "      <td>8.0</td>\n",
       "      <td>2.0</td>\n",
       "    </tr>\n",
       "    <tr>\n",
       "      <td>женат / замужем</td>\n",
       "      <td>0.069049</td>\n",
       "      <td>0.082224</td>\n",
       "      <td>0.093552</td>\n",
       "      <td>0.068273</td>\n",
       "      <td>0.103448</td>\n",
       "      <td>0.0</td>\n",
       "      <td>7473.0</td>\n",
       "      <td>3004.0</td>\n",
       "      <td>1582.0</td>\n",
       "      <td>249.0</td>\n",
       "      <td>29.0</td>\n",
       "      <td>7.0</td>\n",
       "    </tr>\n",
       "  </tbody>\n",
       "</table>\n",
       "</div>"
      ],
      "text/plain": [
       "                           mean                                               \\\n",
       "                           debt                                                \n",
       "children                      0         1         2         3         4    5   \n",
       "family_status                                                                  \n",
       "Не женат / не замужем  0.092838  0.114537  0.119048  0.125000  0.500000  NaN   \n",
       "в разводе              0.070153  0.066456  0.096386  0.090909  0.000000  NaN   \n",
       "вдовец / вдова         0.062574  0.086420  0.125000  0.000000  0.000000  NaN   \n",
       "гражданский брак       0.083546  0.117882  0.092958  0.142857  0.000000  0.0   \n",
       "женат / замужем        0.069049  0.082224  0.093552  0.068273  0.103448  0.0   \n",
       "\n",
       "                        count                                    \n",
       "                         debt                                    \n",
       "children                    0       1       2      3     4    5  \n",
       "family_status                                                    \n",
       "Не женат / не замужем  2262.0   454.0    84.0    8.0   2.0  NaN  \n",
       "в разводе               784.0   316.0    83.0   11.0   1.0  NaN  \n",
       "вдовец / вдова          847.0    81.0    24.0    6.0   1.0  NaN  \n",
       "гражданский брак       2741.0  1001.0   355.0   56.0   8.0  2.0  \n",
       "женат / замужем        7473.0  3004.0  1582.0  249.0  29.0  7.0  "
      ]
     },
     "execution_count": 77,
     "metadata": {},
     "output_type": "execute_result"
    }
   ],
   "source": [
    "display(df.groupby('family_status')['debt'].agg(['count','mean']))\n",
    "df.pivot_table(index='family_status', columns ='children',values=['debt'],aggfunc=['mean','count'])"
   ]
  },
  {
   "cell_type": "markdown",
   "metadata": {},
   "source": [
    "### Вывод"
   ]
  },
  {
   "cell_type": "markdown",
   "metadata": {},
   "source": [
    "Вдовцы/вдовы чаще возвращают кредит в срок, чем остальные. Не женатые/ не замужные реже всех возвращают кредиты в срок."
   ]
  },
  {
   "cell_type": "markdown",
   "metadata": {},
   "source": [
    "- Есть ли зависимость между уровнем дохода и возвратом кредита в срок?"
   ]
  },
  {
   "cell_type": "code",
   "execution_count": 78,
   "metadata": {},
   "outputs": [
    {
     "data": {
      "text/html": [
       "<div>\n",
       "<style scoped>\n",
       "    .dataframe tbody tr th:only-of-type {\n",
       "        vertical-align: middle;\n",
       "    }\n",
       "\n",
       "    .dataframe tbody tr th {\n",
       "        vertical-align: top;\n",
       "    }\n",
       "\n",
       "    .dataframe thead th {\n",
       "        text-align: right;\n",
       "    }\n",
       "</style>\n",
       "<table border=\"1\" class=\"dataframe\">\n",
       "  <thead>\n",
       "    <tr style=\"text-align: right;\">\n",
       "      <th></th>\n",
       "      <th>count</th>\n",
       "      <th>mean</th>\n",
       "    </tr>\n",
       "    <tr>\n",
       "      <th>income_category</th>\n",
       "      <th></th>\n",
       "      <th></th>\n",
       "    </tr>\n",
       "  </thead>\n",
       "  <tbody>\n",
       "    <tr>\n",
       "      <td>бедные</td>\n",
       "      <td>8407</td>\n",
       "      <td>0.085643</td>\n",
       "    </tr>\n",
       "    <tr>\n",
       "      <td>нищие</td>\n",
       "      <td>5892</td>\n",
       "      <td>0.085200</td>\n",
       "    </tr>\n",
       "    <tr>\n",
       "      <td>крайне нищие</td>\n",
       "      <td>2877</td>\n",
       "      <td>0.076121</td>\n",
       "    </tr>\n",
       "    <tr>\n",
       "      <td>средний достаток</td>\n",
       "      <td>1567</td>\n",
       "      <td>0.073389</td>\n",
       "    </tr>\n",
       "    <tr>\n",
       "      <td>ниже среднего</td>\n",
       "      <td>2341</td>\n",
       "      <td>0.069628</td>\n",
       "    </tr>\n",
       "    <tr>\n",
       "      <td>богатые</td>\n",
       "      <td>151</td>\n",
       "      <td>0.059603</td>\n",
       "    </tr>\n",
       "    <tr>\n",
       "      <td>состоятельные</td>\n",
       "      <td>236</td>\n",
       "      <td>0.055085</td>\n",
       "    </tr>\n",
       "  </tbody>\n",
       "</table>\n",
       "</div>"
      ],
      "text/plain": [
       "                  count      mean\n",
       "income_category                  \n",
       "бедные             8407  0.085643\n",
       "нищие              5892  0.085200\n",
       "крайне нищие       2877  0.076121\n",
       "средний достаток   1567  0.073389\n",
       "ниже среднего      2341  0.069628\n",
       "богатые             151  0.059603\n",
       "состоятельные       236  0.055085"
      ]
     },
     "execution_count": 78,
     "metadata": {},
     "output_type": "execute_result"
    }
   ],
   "source": [
    "df.groupby('income_category')['debt'].agg(['count','mean']).sort_values('mean',ascending=False)"
   ]
  },
  {
   "cell_type": "markdown",
   "metadata": {},
   "source": [
    "### Вывод"
   ]
  },
  {
   "cell_type": "markdown",
   "metadata": {},
   "source": [
    "Из полученной таблицы можно сделать вывод, что состоятельные люди чаще всех возвращают кредиты в срок. Три категории людей с наименьшими доходами возглавляют рейтинг неплатильщиков."
   ]
  },
  {
   "cell_type": "markdown",
   "metadata": {},
   "source": [
    "- Как разные цели кредита влияют на его возврат в срок?"
   ]
  },
  {
   "cell_type": "code",
   "execution_count": 79,
   "metadata": {},
   "outputs": [
    {
     "data": {
      "text/html": [
       "<div>\n",
       "<style scoped>\n",
       "    .dataframe tbody tr th:only-of-type {\n",
       "        vertical-align: middle;\n",
       "    }\n",
       "\n",
       "    .dataframe tbody tr th {\n",
       "        vertical-align: top;\n",
       "    }\n",
       "\n",
       "    .dataframe thead th {\n",
       "        text-align: right;\n",
       "    }\n",
       "</style>\n",
       "<table border=\"1\" class=\"dataframe\">\n",
       "  <thead>\n",
       "    <tr style=\"text-align: right;\">\n",
       "      <th></th>\n",
       "      <th>count</th>\n",
       "      <th>mean</th>\n",
       "    </tr>\n",
       "    <tr>\n",
       "      <th>purpose_category</th>\n",
       "      <th></th>\n",
       "      <th></th>\n",
       "    </tr>\n",
       "  </thead>\n",
       "  <tbody>\n",
       "    <tr>\n",
       "      <td>1</td>\n",
       "      <td>10814</td>\n",
       "      <td>0.072314</td>\n",
       "    </tr>\n",
       "    <tr>\n",
       "      <td>2</td>\n",
       "      <td>4308</td>\n",
       "      <td>0.093547</td>\n",
       "    </tr>\n",
       "    <tr>\n",
       "      <td>3</td>\n",
       "      <td>4014</td>\n",
       "      <td>0.092177</td>\n",
       "    </tr>\n",
       "    <tr>\n",
       "      <td>4</td>\n",
       "      <td>2335</td>\n",
       "      <td>0.079657</td>\n",
       "    </tr>\n",
       "  </tbody>\n",
       "</table>\n",
       "</div>"
      ],
      "text/plain": [
       "                  count      mean\n",
       "purpose_category                 \n",
       "1                 10814  0.072314\n",
       "2                  4308  0.093547\n",
       "3                  4014  0.092177\n",
       "4                  2335  0.079657"
      ]
     },
     "execution_count": 79,
     "metadata": {},
     "output_type": "execute_result"
    }
   ],
   "source": [
    "df.groupby('purpose_category')['debt'].agg(['count','mean'])"
   ]
  },
  {
   "cell_type": "markdown",
   "metadata": {},
   "source": [
    "### Вывод"
   ]
  },
  {
   "cell_type": "markdown",
   "metadata": {},
   "source": [
    "Кредиты которые берутся под покупку/действия с недвижимостью чаще возвращают в срок. Кредиты на покупку автомобиля и образование реже всего."
   ]
  },
  {
   "cell_type": "markdown",
   "metadata": {},
   "source": [
    "### Шаг 4. Общий вывод"
   ]
  },
  {
   "cell_type": "markdown",
   "metadata": {},
   "source": [
    "Полученные данные были проанализированны, пропущенные значения были восстановлены на основе имеющейся ифнормации. В рамках анализа были выделенны категории доходов клиентов, а так же систематизированы цели на которые клиенты планировали потратить денежные средства.\n",
    "В целом, уровень возвращаемости кредита составляет от 6% до 10%.\n",
    "Наличие детей не влияет на на возврат кредита в срок (средние значнения в предлах 7.5% - 9.7%), в отличии семейного статуса - не женатые/ не замужные реже всех возвращают долги в срок(9.7%). Чаще всех вовремя плятят по кредитам вдовы/вдовцы(только 6.5% просрочек) \n",
    "Объем источников дохода так же влияет на возврат кредита в срок- клиенты с наименьшим уровнем дохода склонны реже возвращать кредиты вовремя. Две наиболее крупные категории имеют средние значение в 8.5%, в то время как состоятельные люди не платят вовремя только в минимальных 5.5% случаев.\n",
    "Кредиты направленые на покупку недвижимости возвращают в срок чаще остальных (7.2%), реже вовремя платят по кредитам за образование/автокредиты (около 9.3% случаев)."
   ]
  }
 ],
 "metadata": {
  "kernelspec": {
   "display_name": "Python 3",
   "language": "python",
   "name": "python3"
  },
  "language_info": {
   "codemirror_mode": {
    "name": "ipython",
    "version": 3
   },
   "file_extension": ".py",
   "mimetype": "text/x-python",
   "name": "python",
   "nbconvert_exporter": "python",
   "pygments_lexer": "ipython3",
   "version": "3.7.6"
  }
 },
 "nbformat": 4,
 "nbformat_minor": 2
}
