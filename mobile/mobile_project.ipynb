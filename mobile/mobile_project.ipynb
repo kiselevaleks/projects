{
 "cells": [
  {
   "cell_type": "markdown",
   "metadata": {},
   "source": [
    "# Исследование тарифных планов"
   ]
  },
  {
   "cell_type": "markdown",
   "metadata": {},
   "source": [
    "<b>Выборка исследования:</b> данные 500 пользователей «Мегалайна» (оператор сотовой связи): кто они, откуда, каким тарифом пользуются, сколько звонков и сообщений каждый отправил за 2018 год.\n",
    "\n",
    "<b>Цель:</b> клиентам предлагают два тарифных плана: «Смарт» и «Ультра». Необходимо понять, какой тариф приносит больше денег.\n",
    "\n",
    "<b>Тариф «Смарт»</b>\n",
    "1.\tЕжемесячная плата: 550 рублей\n",
    "2.\tВключено 500 минут разговора, 50 сообщений и 15 Гб интернет-трафика\n",
    "3.\tСтоимость услуг сверх тарифного пакета:\n",
    "•\tминута разговора: 3 рубля\n",
    "•\tсообщение: 3 рубля\n",
    "•\t1 Гб интернет-трафика: 200 рублей\n",
    "\n",
    "\n",
    "<b>Тариф «Ультра»</b>\n",
    "1.\tЕжемесячная плата: 1950 рублей\n",
    "2.\tВключено 3000 минут разговора, 1000 сообщений и 30 Гб интернет-трафика\n",
    "3.\tСтоимость услуг сверх тарифного пакета:\n",
    "•\tминута разговора: 1 рубль\n",
    "•\tсообщение: 1 рубль\n",
    "•\t1 Гб интернет-трафика: 150 рублей\n",
    "\n",
    "Нужно проанализировать поведение клиентов и сделать вывод — какой тариф лучше."
   ]
  },
  {
   "cell_type": "markdown",
   "metadata": {},
   "source": [
    "## 1. Обзор и подготовка данных"
   ]
  },
  {
   "cell_type": "code",
   "execution_count": 1,
   "metadata": {},
   "outputs": [],
   "source": [
    "#Библиотеки\n",
    "\n",
    "import pandas as pd\n",
    "import matplotlib.pyplot as plt\n",
    "import numpy as np\n",
    "import math\n",
    "from scipy import stats as st"
   ]
  },
  {
   "cell_type": "code",
   "execution_count": 2,
   "metadata": {},
   "outputs": [],
   "source": [
    "#Загрузка данных\n",
    "\n",
    "data_calls = pd.read_csv('/datasets/calls.csv')\n",
    "data_internet = pd.read_csv('/datasets/internet.csv')\n",
    "data_messages = pd.read_csv('/datasets/messages.csv')\n",
    "data_tariffs = pd.read_csv('/datasets/tariffs.csv')\n",
    "data_users = pd.read_csv('/datasets/users.csv')"
   ]
  },
  {
   "cell_type": "code",
   "execution_count": 3,
   "metadata": {},
   "outputs": [
    {
     "name": "stdout",
     "output_type": "stream",
     "text": [
      "<class 'pandas.core.frame.DataFrame'>\n",
      "RangeIndex: 202607 entries, 0 to 202606\n",
      "Data columns (total 4 columns):\n",
      "id           202607 non-null object\n",
      "call_date    202607 non-null object\n",
      "duration     202607 non-null float64\n",
      "user_id      202607 non-null int64\n",
      "dtypes: float64(1), int64(1), object(2)\n",
      "memory usage: 6.2+ MB\n"
     ]
    }
   ],
   "source": [
    "data_calls.info()\n",
    "data_calls['call_date'] = pd.to_datetime(data_calls['call_date'], format='%Y-%m-%d')\n",
    "data_calls['month'] = data_calls['call_date'].dt.month\n",
    "def good_calls_ceil(row):\n",
    "    duration = row['duration']\n",
    "    duration = math.ceil(duration)\n",
    "    return duration\n",
    "\n",
    "data_calls['duration'] = data_calls.apply(good_calls_ceil, axis=1)\n",
    "good_calls = data_calls.query('duration != 0.00')"
   ]
  },
  {
   "cell_type": "code",
   "execution_count": 4,
   "metadata": {},
   "outputs": [
    {
     "name": "stdout",
     "output_type": "stream",
     "text": [
      "<class 'pandas.core.frame.DataFrame'>\n",
      "RangeIndex: 149396 entries, 0 to 149395\n",
      "Data columns (total 5 columns):\n",
      "Unnamed: 0      149396 non-null int64\n",
      "id              149396 non-null object\n",
      "mb_used         149396 non-null float64\n",
      "session_date    149396 non-null object\n",
      "user_id         149396 non-null int64\n",
      "dtypes: float64(1), int64(2), object(2)\n",
      "memory usage: 5.7+ MB\n"
     ]
    }
   ],
   "source": [
    "data_internet.info()\n",
    "data_internet.drop(['Unnamed: 0'], axis='columns', inplace=True)\n",
    "good_internet = data_internet.query('mb_used != 0.00')\n",
    "data_internet['session_date'] = pd.to_datetime(data_internet['session_date'], format='%Y-%m-%d')\n",
    "data_internet['month'] = data_internet['session_date'].dt.month\n",
    "data_internet['gb_used'] = round((data_internet['mb_used']/1024),3)"
   ]
  },
  {
   "cell_type": "code",
   "execution_count": 5,
   "metadata": {},
   "outputs": [
    {
     "name": "stdout",
     "output_type": "stream",
     "text": [
      "<class 'pandas.core.frame.DataFrame'>\n",
      "RangeIndex: 123036 entries, 0 to 123035\n",
      "Data columns (total 3 columns):\n",
      "id              123036 non-null object\n",
      "message_date    123036 non-null object\n",
      "user_id         123036 non-null int64\n",
      "dtypes: int64(1), object(2)\n",
      "memory usage: 2.8+ MB\n"
     ]
    }
   ],
   "source": [
    "data_messages.info()\n",
    "data_messages['message_date'] = pd.to_datetime(data_messages['message_date'], format='%Y-%m-%d')\n",
    "data_messages['month'] = data_messages['message_date'].dt.month"
   ]
  },
  {
   "cell_type": "code",
   "execution_count": 6,
   "metadata": {},
   "outputs": [
    {
     "name": "stdout",
     "output_type": "stream",
     "text": [
      "<class 'pandas.core.frame.DataFrame'>\n",
      "RangeIndex: 2 entries, 0 to 1\n",
      "Data columns (total 8 columns):\n",
      "messages_included        2 non-null int64\n",
      "mb_per_month_included    2 non-null int64\n",
      "minutes_included         2 non-null int64\n",
      "rub_monthly_fee          2 non-null int64\n",
      "rub_per_gb               2 non-null int64\n",
      "rub_per_message          2 non-null int64\n",
      "rub_per_minute           2 non-null int64\n",
      "tariff_name              2 non-null object\n",
      "dtypes: int64(7), object(1)\n",
      "memory usage: 256.0+ bytes\n"
     ]
    }
   ],
   "source": [
    "data_tariffs.info()"
   ]
  },
  {
   "cell_type": "code",
   "execution_count": 7,
   "metadata": {},
   "outputs": [
    {
     "name": "stdout",
     "output_type": "stream",
     "text": [
      "<class 'pandas.core.frame.DataFrame'>\n",
      "RangeIndex: 500 entries, 0 to 499\n",
      "Data columns (total 8 columns):\n",
      "user_id       500 non-null int64\n",
      "age           500 non-null int64\n",
      "churn_date    38 non-null object\n",
      "city          500 non-null object\n",
      "first_name    500 non-null object\n",
      "last_name     500 non-null object\n",
      "reg_date      500 non-null object\n",
      "tariff        500 non-null object\n",
      "dtypes: int64(2), object(6)\n",
      "memory usage: 31.4+ KB\n"
     ]
    }
   ],
   "source": [
    "data_users.info()\n",
    "data_users[data_users['churn_date'].isnull()==False].head()\n",
    "data_users['reg_date'] = pd.to_datetime(data_users['reg_date'], format='%Y-%m-%d')"
   ]
  },
  {
   "cell_type": "code",
   "execution_count": 8,
   "metadata": {},
   "outputs": [
    {
     "data": {
      "image/png": "[encoded data removed]",
      "text/plain": [
       "<Figure size 432x288 with 1 Axes>"
      ]
     },
     "metadata": {
      "needs_background": "light"
     },
     "output_type": "display_data"
    }
   ],
   "source": [
    "good_calls['month'].plot(kind='hist',y='duration', alpha=0.4)\n",
    "data_internet['month'].plot(kind='hist',y='mb_used', alpha=0.4)\n",
    "data_messages['month'].plot(kind='hist', alpha=0.4)\n",
    "plt.title('Объем потрябляемых услуг')\n",
    "plt.show()"
   ]
  },
  {
   "cell_type": "markdown",
   "metadata": {},
   "source": [
    "На графике можно наблидать рост числа звонков, отправки смс и использования интернет-трафика. Возможно, это связано с тем что компания активно подключает клиентов на новые тарифы.<br>\n",
    "В датафрейме 'звонки' был выделен новый фрейм без звонков дительностью 0.00.<br>\n",
    "В фрейме 'интернет' был удален столбец <i>'Unnamed: 0'</i> дублирующий user_id и выделен фрейм без строк с нулевым интернет трафиком."
   ]
  },
  {
   "cell_type": "code",
   "execution_count": 9,
   "metadata": {},
   "outputs": [],
   "source": [
    "data_calls_group = (data_calls.groupby(['user_id', 'month'])\n",
    "                    .agg({'id': 'count', 'duration': 'sum'})\n",
    "                    .rename(columns={'id':'calls_count', 'duration':'calls_duration_sum'})\n",
    "                    .reset_index()\n",
    "                   )"
   ]
  },
  {
   "cell_type": "code",
   "execution_count": 10,
   "metadata": {},
   "outputs": [],
   "source": [
    "data_internet_group = (data_internet.groupby(['user_id', 'month'])\n",
    "                    .agg({'gb_used': 'sum'})\n",
    "                    .rename(columns={'gb_used':'gb_used_sum'})\n",
    "                    .reset_index()\n",
    "                   )\n",
    "def data_internet_ceil(row):\n",
    "    gb_used_sum = row['gb_used_sum']\n",
    "    gb_used_sum = math.ceil(gb_used_sum)\n",
    "    return gb_used_sum\n",
    "\n",
    "data_internet_group['gb_used_sum'] = data_internet_group.apply(data_internet_ceil, axis=1)"
   ]
  },
  {
   "cell_type": "code",
   "execution_count": 11,
   "metadata": {},
   "outputs": [],
   "source": [
    "data_messages_group = (data_messages.groupby(['user_id', 'month'])\n",
    "                    .agg({'message_date': 'count'})\n",
    "                    .rename(columns={'message_date':'messages_count'})\n",
    "                    .reset_index()\n",
    "                   )"
   ]
  },
  {
   "cell_type": "code",
   "execution_count": 12,
   "metadata": {},
   "outputs": [],
   "source": [
    "data_users_revenue = pd.DataFrame()\n",
    "\n",
    "data_users_revenue = (\n",
    "    data_internet_group\n",
    "    .merge(data_calls_group, on=['user_id', 'month'], how='left')\n",
    "    .merge(data_users[['user_id','tariff']], on='user_id', how='left')\n",
    "    .merge(data_messages_group, on=['user_id', 'month'], how='left')\n",
    "    \n",
    ")"
   ]
  },
  {
   "cell_type": "code",
   "execution_count": 13,
   "metadata": {},
   "outputs": [],
   "source": [
    "def revenue_count(row):\n",
    "    \n",
    "    tar_index = 0\n",
    "    calls = row['calls_duration_sum']\n",
    "    messages = row['messages_count']\n",
    "    gb_used = row['gb_used_sum']\n",
    "    tariff = row['tariff']\n",
    "    if str(tariff) == 'ultra':\n",
    "            tar_index = 1\n",
    "            \n",
    "    messages_included = data_tariffs['messages_included'][tar_index]\n",
    "    gb_per_month_included = data_tariffs['mb_per_month_included'][tar_index]/1024\n",
    "    minutes_included = data_tariffs['minutes_included'][tar_index]\n",
    "    rub_monthly_fee = data_tariffs['rub_monthly_fee'][tar_index]\n",
    "    \n",
    "    rub_per_gb = data_tariffs['rub_per_gb'][tar_index]\n",
    "    rub_per_message = data_tariffs['rub_per_message'][tar_index]\n",
    "    rub_per_minute = data_tariffs['rub_per_minute'][tar_index]\n",
    "    \n",
    "    minutes_add = 0\n",
    "    messages_add = 0\n",
    "    internet_add = 0\n",
    "    if minutes_included < calls:\n",
    "        minutes_add = (calls - minutes_included)*rub_per_minute\n",
    "    if messages_included < messages:\n",
    "        messages_add = (messages - messages_included)*rub_per_message\n",
    "    if gb_per_month_included < gb_used:    \n",
    "        internet_add = (gb_used - gb_per_month_included)*rub_per_gb\n",
    "    revenue = (\n",
    "        rub_monthly_fee + minutes_add + messages_add + internet_add\n",
    "    )\n",
    "    return revenue\n",
    "    \n",
    "data_users_revenue['revenue'] = data_users_revenue.apply(revenue_count, axis=1)"
   ]
  },
  {
   "cell_type": "markdown",
   "metadata": {},
   "source": [
    "## 2. Анализ данных"
   ]
  },
  {
   "cell_type": "code",
   "execution_count": 14,
   "metadata": {},
   "outputs": [
    {
     "data": {
      "image/png": "[encoded data removed]",
      "text/plain": [
       "<Figure size 432x288 with 1 Axes>"
      ]
     },
     "metadata": {
      "needs_background": "light"
     },
     "output_type": "display_data"
    },
    {
     "data": {
      "image/png": "[encoded data removed]",
      "text/plain": [
       "<Figure size 432x288 with 1 Axes>"
      ]
     },
     "metadata": {
      "needs_background": "light"
     },
     "output_type": "display_data"
    },
    {
     "data": {
      "image/png": "[encoded data removed]",
      "text/plain": [
       "<Figure size 432x288 with 1 Axes>"
      ]
     },
     "metadata": {
      "needs_background": "light"
     },
     "output_type": "display_data"
    }
   ],
   "source": [
    "(data_users_revenue\n",
    "    .pivot_table(index='tariff', columns='month', values='calls_duration_sum', aggfunc='mean')\n",
    "    .T.plot(kind='bar', alpha=0.6)\n",
    ")\n",
    "plt.title('Гистограмамма распределения средней длительности звонков по тарифам, мин.')\n",
    "(data_users_revenue\n",
    "    .pivot_table(index='tariff', columns='month', values='gb_used_sum', aggfunc='mean')\n",
    "    .T.plot(kind='bar', alpha=0.6)\n",
    ")\n",
    "plt.title('Гистограмамма распределения среднего кол-ва отправленных смс по тарифам')\n",
    "(data_users_revenue\n",
    "    .pivot_table(index='tariff', columns='month', values='messages_count', aggfunc='mean')\n",
    "    .T.plot(kind='bar', alpha=0.6)\n",
    ")\n",
    "plt.title('Гистограмамма распределения среднего кол-ва потребленного трафика по тарифам, мб.')\n",
    "plt.show()"
   ]
  },
  {
   "cell_type": "markdown",
   "metadata": {},
   "source": [
    "> **_<span style=\"color:black\">Здесь python ругается на такой метод замены значений. Безопаснее использовать замену через функцию `loc`.</span>_**"
   ]
  },
  {
   "cell_type": "markdown",
   "metadata": {},
   "source": [
    "Из графиков контрольных сумм видно, как растет кол-во используемых услуг с ростом кол-ва пользователей. Средние же значения имеют умеренный рост показателей. Обнаружены аномально низкие показатели по всем услугам в Феврале."
   ]
  },
  {
   "cell_type": "code",
   "execution_count": 15,
   "metadata": {},
   "outputs": [
    {
     "data": {
      "image/png": "[encoded data removed]",
      "text/plain": [
       "<Figure size 432x288 with 1 Axes>"
      ]
     },
     "metadata": {
      "needs_background": "light"
     },
     "output_type": "display_data"
    },
    {
     "data": {
      "image/png": "[encoded data removed]",
      "text/plain": [
       "<Figure size 432x288 with 1 Axes>"
      ]
     },
     "metadata": {
      "needs_background": "light"
     },
     "output_type": "display_data"
    },
    {
     "data": {
      "image/png": "[encoded data removed]",
      "text/plain": [
       "<Figure size 432x288 with 1 Axes>"
      ]
     },
     "metadata": {
      "needs_background": "light"
     },
     "output_type": "display_data"
    }
   ],
   "source": [
    "(data_users_revenue\n",
    "    .pivot_table(index='tariff', columns='month', values='calls_duration_sum', aggfunc='mean')\n",
    "    .T.plot(kind='hist', alpha=0.6, bins=20)\n",
    ")\n",
    "plt.title('Гистограмамма распределения средней длительности звонков по тарифам, мин.')\n",
    "(data_users_revenue\n",
    "    .pivot_table(index='tariff', columns='month', values='gb_used_sum', aggfunc='mean')\n",
    "    .T.plot(kind='hist', alpha=0.6, bins=20)\n",
    ")\n",
    "plt.title('Гистограмамма распределения среднего кол-ва отправленных смс по тарифам')\n",
    "(data_users_revenue\n",
    "    .pivot_table(index='tariff', columns='month', values='messages_count', aggfunc='mean')\n",
    "    .T.plot(kind='hist', alpha=0.6, bins=20)\n",
    ")\n",
    "plt.title('Гистограмамма распределения среднего кол-ва потребленного трафика по тарифам, ГБ.')\n",
    "plt.show()"
   ]
  },
  {
   "cell_type": "markdown",
   "metadata": {},
   "source": [
    "Пользователи тарифа smart пользуются меньшим обьемом услуг, чем клиенты с тарифом ultra, но чаще выходят за рамки тарифа. Так же наблюдается частое превышение лимитов трафика у пользователей тарифа смарт."
   ]
  },
  {
   "cell_type": "markdown",
   "metadata": {},
   "source": [
    "### Анализ выручки"
   ]
  },
  {
   "cell_type": "code",
   "execution_count": 16,
   "metadata": {},
   "outputs": [],
   "source": [
    "total_revenue = (data_users_revenue\n",
    "    .pivot_table(index='user_id', values=['revenue','tariff'], aggfunc={'revenue': 'mean', 'tariff': 'first'})\n",
    "    .reset_index()\n",
    "    .rename(columns={'revenue':'mean_revenue'})\n",
    "                )"
   ]
  },
  {
   "cell_type": "code",
   "execution_count": 17,
   "metadata": {},
   "outputs": [
    {
     "data": {
      "image/png": "[encoded data removed]",
      "text/plain": [
       "<Figure size 432x288 with 1 Axes>"
      ]
     },
     "metadata": {
      "needs_background": "light"
     },
     "output_type": "display_data"
    }
   ],
   "source": [
    "(total_revenue\n",
    "    .query('tariff==\"smart\"')\n",
    "    .plot(kind='hist', y='mean_revenue', alpha=0.6, bins=20)\n",
    ")\n",
    "plt.title('Распределение среднемесячной выручки (тариф смарт)')\n",
    "plt.xlabel('Выручка')\n",
    "plt.show()"
   ]
  },
  {
   "cell_type": "code",
   "execution_count": 18,
   "metadata": {},
   "outputs": [
    {
     "data": {
      "image/png": "[encoded data removed]",
      "text/plain": [
       "<Figure size 432x288 with 1 Axes>"
      ]
     },
     "metadata": {
      "needs_background": "light"
     },
     "output_type": "display_data"
    }
   ],
   "source": [
    "(total_revenue\n",
    "    .query('tariff==\"ultra\"')\n",
    "    .plot(kind='hist', y='mean_revenue',facecolor='tab:orange', alpha=0.6, bins=20)\n",
    ")\n",
    "plt.title('Распределение среднемесячной выручки (тариф ультра)')\n",
    "plt.xlabel('Выручка')\n",
    "plt.show()"
   ]
  },
  {
   "cell_type": "code",
   "execution_count": 19,
   "metadata": {},
   "outputs": [
    {
     "data": {
      "image/png": "[encoded data removed]",
      "text/plain": [
       "<Figure size 432x288 with 1 Axes>"
      ]
     },
     "metadata": {
      "needs_background": "light"
     },
     "output_type": "display_data"
    }
   ],
   "source": [
    "ax = (total_revenue\n",
    "    .query('tariff==\"smart\"')\n",
    "    .plot(kind='hist', y='mean_revenue', alpha=0.6, bins=20)\n",
    ")\n",
    "(total_revenue\n",
    "    .query('tariff==\"ultra\"')\n",
    "    .plot(kind='hist', y='mean_revenue', facecolor='tab:orange', ax=ax, alpha=0.6, bins=20)\n",
    ")\n",
    "plt.title('Распределение выручки по тарифам')\n",
    "plt.xlabel('Выручка')\n",
    "plt.show()"
   ]
  },
  {
   "cell_type": "code",
   "execution_count": 20,
   "metadata": {},
   "outputs": [
    {
     "data": {
      "image/png": "[encoded data removed]",
      "text/plain": [
       "<Figure size 432x288 with 1 Axes>"
      ]
     },
     "metadata": {
      "needs_background": "light"
     },
     "output_type": "display_data"
    }
   ],
   "source": [
    "total_revenue.query('tariff==\"smart\"').boxplot('mean_revenue', positions=[1], labels=['smart'])\n",
    "total_revenue.query('tariff==\"ultra\"').boxplot('mean_revenue', positions=[2], labels=['ultra'])\n",
    "plt.title('Диаграмма размаха по тарифам')\n",
    "plt.show()"
   ]
  },
  {
   "cell_type": "code",
   "execution_count": 21,
   "metadata": {},
   "outputs": [
    {
     "name": "stdout",
     "output_type": "stream",
     "text": [
      "Дисперсия\n",
      "406293.10361591756\n",
      "-----------\n",
      "Стандартное отклонение\n",
      "637.4112515604958\n"
     ]
    }
   ],
   "source": [
    "#Расчет дисперсии и стандартного отклонения среднемесячной выручки\n",
    "def variance_count(data):\n",
    "    variance_estimate = np.var(data, ddof=1)\n",
    "    print(variance_estimate)\n",
    "print('Дисперсия')    \n",
    "variance_count(total_revenue['mean_revenue'])\n",
    "print('-----------')\n",
    "print('Стандартное отклонение')\n",
    "def standart_dev_count(data):\n",
    "    standart_dev = np.std(data, ddof=1)\n",
    "    print(standart_dev)\n",
    "standart_dev_count(total_revenue['mean_revenue'])"
   ]
  },
  {
   "cell_type": "code",
   "execution_count": 22,
   "metadata": {},
   "outputs": [
    {
     "data": {
      "text/html": [
       "<div>\n",
       "<style scoped>\n",
       "    .dataframe tbody tr th:only-of-type {\n",
       "        vertical-align: middle;\n",
       "    }\n",
       "\n",
       "    .dataframe tbody tr th {\n",
       "        vertical-align: top;\n",
       "    }\n",
       "\n",
       "    .dataframe thead th {\n",
       "        text-align: right;\n",
       "    }\n",
       "</style>\n",
       "<table border=\"1\" class=\"dataframe\">\n",
       "  <thead>\n",
       "    <tr style=\"text-align: right;\">\n",
       "      <th></th>\n",
       "      <th>mean_revenue</th>\n",
       "    </tr>\n",
       "    <tr>\n",
       "      <th>tariff</th>\n",
       "      <th></th>\n",
       "    </tr>\n",
       "  </thead>\n",
       "  <tbody>\n",
       "    <tr>\n",
       "      <td>smart</td>\n",
       "      <td>1324.719019</td>\n",
       "    </tr>\n",
       "    <tr>\n",
       "      <td>ultra</td>\n",
       "      <td>2087.392990</td>\n",
       "    </tr>\n",
       "  </tbody>\n",
       "</table>\n",
       "</div>"
      ],
      "text/plain": [
       "        mean_revenue\n",
       "tariff              \n",
       "smart    1324.719019\n",
       "ultra    2087.392990"
      ]
     },
     "execution_count": 22,
     "metadata": {},
     "output_type": "execute_result"
    }
   ],
   "source": [
    "total_revenue.pivot_table(index='tariff',values='mean_revenue', aggfunc='mean')"
   ]
  },
  {
   "cell_type": "code",
   "execution_count": 23,
   "metadata": {},
   "outputs": [
    {
     "data": {
      "text/html": [
       "<div>\n",
       "<style scoped>\n",
       "    .dataframe tbody tr th:only-of-type {\n",
       "        vertical-align: middle;\n",
       "    }\n",
       "\n",
       "    .dataframe tbody tr th {\n",
       "        vertical-align: top;\n",
       "    }\n",
       "\n",
       "    .dataframe thead th {\n",
       "        text-align: right;\n",
       "    }\n",
       "</style>\n",
       "<table border=\"1\" class=\"dataframe\">\n",
       "  <thead>\n",
       "    <tr style=\"text-align: right;\">\n",
       "      <th></th>\n",
       "      <th>tariff</th>\n",
       "      <th>mean_revenue</th>\n",
       "    </tr>\n",
       "  </thead>\n",
       "  <tbody>\n",
       "    <tr>\n",
       "      <td>483</td>\n",
       "      <td>smart</td>\n",
       "      <td>4333.333333</td>\n",
       "    </tr>\n",
       "    <tr>\n",
       "      <td>260</td>\n",
       "      <td>smart</td>\n",
       "      <td>3628.666667</td>\n",
       "    </tr>\n",
       "    <tr>\n",
       "      <td>302</td>\n",
       "      <td>ultra</td>\n",
       "      <td>3225.000000</td>\n",
       "    </tr>\n",
       "    <tr>\n",
       "      <td>124</td>\n",
       "      <td>ultra</td>\n",
       "      <td>3225.000000</td>\n",
       "    </tr>\n",
       "    <tr>\n",
       "      <td>42</td>\n",
       "      <td>smart</td>\n",
       "      <td>3129.500000</td>\n",
       "    </tr>\n",
       "  </tbody>\n",
       "</table>\n",
       "</div>"
      ],
      "text/plain": [
       "    tariff  mean_revenue\n",
       "483  smart   4333.333333\n",
       "260  smart   3628.666667\n",
       "302  ultra   3225.000000\n",
       "124  ultra   3225.000000\n",
       "42   smart   3129.500000"
      ]
     },
     "execution_count": 23,
     "metadata": {},
     "output_type": "execute_result"
    }
   ],
   "source": [
    "(total_revenue[['tariff','mean_revenue']]\n",
    "               .sort_values(by='mean_revenue', ascending=False)\n",
    "               .head())"
   ]
  },
  {
   "cell_type": "markdown",
   "metadata": {},
   "source": [
    "Из графиков видно, что большинство пользователей тарифа ультра укалдывается в базовый объем предоставляемых услуг. Чего нельзя сказать о пользователях тарифа смарт. Расходы пользователнй тарифа смарт в среднем в несколько раз превышают ежемясячную плату по тарифу. Максимальная среднемесячная выручка наблюдается именно у пользователей тарифа смарт.<br>\n",
    "График распределения среднемесячной выручки пользователей тарифа смарт более похож на график нормального распределения, чем график распределения для пользователей тарифа ультра."
   ]
  },
  {
   "cell_type": "markdown",
   "metadata": {},
   "source": [
    "## 3. Проверка гипотезы"
   ]
  },
  {
   "cell_type": "markdown",
   "metadata": {},
   "source": [
    "В рамках исследования необходимо проверить две гипотезы:<br>\n",
    "•\tсредняя выручка пользователей тарифов «Ультра» и «Смарт» различается;<br>\n",
    "•\tсредняя выручка пользователей из Москвы отличается от выручки пользователей из других регионов;<br><br>\n",
    "\n",
    "Для проверки данных гипотез сформулируем двусторонние гипотезы. Двустороннюю гипотезу мы выбираем, т.к. мы не знаем в какую сторону (большую или меньшую) может измениться среднемесячная выручка.<br>\n",
    "Нулевая гипотеза всегда формулируется так, чтобы использовать знак равенства. Исходя из нулевой гипотезы формулируется альтернативная гипотеза."
   ]
  },
  {
   "cell_type": "markdown",
   "metadata": {},
   "source": [
    "### Гипотеза 1"
   ]
  },
  {
   "cell_type": "markdown",
   "metadata": {},
   "source": [
    "<b>Нулевая гипотеза:</b> средние выручки пользователей тарифов «Ультра» и «Смарт» равны.<br>\n",
    "<b>Альтернативаня гипотеза:</b> средние выручки пользователей тарифов «Ультра» и «Смарт» не равны.<br>"
   ]
  },
  {
   "cell_type": "code",
   "execution_count": 25,
   "metadata": {},
   "outputs": [
    {
     "name": "stdout",
     "output_type": "stream",
     "text": [
      "p-значение:  4.571202126579977e-40\n",
      "Отвергаем нулевую гипотезу\n"
     ]
    }
   ],
   "source": [
    "mean_smart_revenue = total_revenue.query('tariff==\"smart\"')['mean_revenue']\n",
    "mean_ultra_revenue = total_revenue.query('tariff==\"ultra\"')['mean_revenue']\n",
    "results = st.ttest_ind(mean_smart_revenue,mean_ultra_revenue)\n",
    "alpha = 0.05\n",
    "\n",
    "print('p-значение: ', results.pvalue)\n",
    "\n",
    "if results.pvalue < alpha:\n",
    "    print('Отвергаем нулевую гипотезу')\n",
    "else:\n",
    "    print('Не получилось отвергнуть нулевую гипотезу')"
   ]
  },
  {
   "cell_type": "markdown",
   "metadata": {},
   "source": [
    "<b>Вывод:</b> Значение pvalue слишком мало, чтобы принять гипотезу о равенстве выручек."
   ]
  },
  {
   "cell_type": "markdown",
   "metadata": {},
   "source": [
    "### Гипотеза 2"
   ]
  },
  {
   "cell_type": "markdown",
   "metadata": {},
   "source": [
    "<b>Нулевая гипотеза:</b> выручка пользователей из Москвы не отличается от выручки пользователей из других регионов<br>\n",
    "<b>Альтернативаня гипотеза:</b> выручка пользователей из Москвы отличается от выручки пользователей из других регионов<br>"
   ]
  },
  {
   "cell_type": "code",
   "execution_count": 26,
   "metadata": {},
   "outputs": [
    {
     "name": "stdout",
     "output_type": "stream",
     "text": [
      "p-значение:  0.7099092178210239\n",
      "Не получилось отвергнуть нулевую гипотезу\n"
     ]
    }
   ],
   "source": [
    "total_revenue['city'] = data_users['city']\n",
    "mean_msk_revenue = total_revenue.query('city==\"Москва\"')['mean_revenue']\n",
    "mean_zamkad_revenue = total_revenue.query('city!=\"Москва\"')['mean_revenue']\n",
    "results = st.ttest_ind(mean_msk_revenue,mean_zamkad_revenue)\n",
    "alpha = 0.05\n",
    "\n",
    "print('p-значение: ', results.pvalue)\n",
    "\n",
    "if results.pvalue < alpha:\n",
    "    print('Отвергаем нулевую гипотезу')\n",
    "else:\n",
    "    print('Не получилось отвергнуть нулевую гипотезу')"
   ]
  },
  {
   "cell_type": "markdown",
   "metadata": {},
   "source": [
    "<b>Вывод:</b> Значение pvalue указывает на то, выручка пользвателей отличается, но вероятность того, что это произошло случайно, довольно высока (почти 71%)."
   ]
  },
  {
   "cell_type": "markdown",
   "metadata": {},
   "source": [
    "## 4. Общий вывод"
   ]
  },
  {
   "cell_type": "markdown",
   "metadata": {},
   "source": [
    "В рамках исследования были проверенны данные 500 пользователей услуг провайдера \"Мегалайн\".<br>\n",
    "Обзор данных показал, что пользователи тарифа смарт чаще выходя за рамки услуг, предоставленных на тарифном плане. Так же, суммарные показатели использования услуг у тарифного плана смарт выше чем у тарифного плана ультра.<br>\n",
    "Наибольшая среднемесячная выручка наблюдается у пользователей тарифа смарт (4333 руб.).<br>\n",
    "Среднемесячная выручка пользователей тарифа смарт в среднем на в 3 раза выше абонентской платы по тарифу , в то время как среднемясячная выручка пользователей тарифа ультра не значительно отличается от ежемесячной платы (около 10%).<br>\n",
    "Гипотеза о равенстве выручек не была подтверждена.<br>\n",
    "Гипотезу о различии выручек Москвы и других регионов не удалось опровергнуть, но высока вероятность что эти значения получены случайно.<br><br>\n",
    "\n",
    "<b>Вывод:</b> для компании Мегалайн тариф Смарт является более прибыльным тарифом."
   ]
  }
 ],
 "metadata": {
  "kernelspec": {
   "display_name": "Python 3",
   "language": "python",
   "name": "python3"
  },
  "language_info": {
   "codemirror_mode": {
    "name": "ipython",
    "version": 3
   },
   "file_extension": ".py",
   "mimetype": "text/x-python",
   "name": "python",
   "nbconvert_exporter": "python",
   "pygments_lexer": "ipython3",
   "version": "3.7.6"
  }
 },
 "nbformat": 4,
 "nbformat_minor": 2
}
