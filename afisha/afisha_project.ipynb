{
 "cells": [
  {
   "cell_type": "markdown",
   "metadata": {},
   "source": [
    "# Обзор маркетинговых завтрат Янедкс.Афиши"
   ]
  },
  {
   "cell_type": "markdown",
   "metadata": {},
   "source": [
    "Из выгрузки статистики Яндекс.Афиши получены данные о посещениях сайта, покупках и затратах на привлечение.<br>\n",
    "**Задача**: помочь маркетологам оптимизировать маркетинговые затраты.<br>\n",
    
   ]
  },
  {
   "cell_type": "markdown",
   "metadata": {},
   "source": [
    "## 1. Обзор и подготовка данных к анализу"
   ]
  },
  {
   "cell_type": "code",
   "execution_count": 344,
   "metadata": {},
   "outputs": [],
   "source": [
    "#Библиотеки\n",
    "\n",
    "import pandas as pd\n",
    "import matplotlib.pyplot as plt\n",
    "import numpy as np\n",
    "import seaborn as sns"
   ]
  },
  {
   "cell_type": "code",
   "execution_count": 345,
   "metadata": {},
   "outputs": [],
   "source": [
    "#Загрузка данных\n",
    "\n",
    "visits = pd.read_csv('/datasets/visits_log.csv')\n",
    "orders = pd.read_csv('/datasets/orders_log.csv')\n",
    "costs = pd.read_csv('/datasets/costs.csv')"
   ]
  },
  {
   "cell_type": "code",
   "execution_count": 346,
   "metadata": {},
   "outputs": [
    {
     "data": {
      "text/html": [
       "<div>\n",
       "<style scoped>\n",
       "    .dataframe tbody tr th:only-of-type {\n",
       "        vertical-align: middle;\n",
       "    }\n",
       "\n",
       "    .dataframe tbody tr th {\n",
       "        vertical-align: top;\n",
       "    }\n",
       "\n",
       "    .dataframe thead th {\n",
       "        text-align: right;\n",
       "    }\n",
       "</style>\n",
       "<table border=\"1\" class=\"dataframe\">\n",
       "  <thead>\n",
       "    <tr style=\"text-align: right;\">\n",
       "      <th></th>\n",
       "      <th>device</th>\n",
       "      <th>end_ts</th>\n",
       "      <th>source_id</th>\n",
       "      <th>start_ts</th>\n",
       "      <th>uid</th>\n",
       "    </tr>\n",
       "  </thead>\n",
       "  <tbody>\n",
       "    <tr>\n",
       "      <td>0</td>\n",
       "      <td>touch</td>\n",
       "      <td>2017-12-20 17:38:00</td>\n",
       "      <td>4</td>\n",
       "      <td>2017-12-20 17:20:00</td>\n",
       "      <td>16879256277535980062</td>\n",
       "    </tr>\n",
       "    <tr>\n",
       "      <td>1</td>\n",
       "      <td>desktop</td>\n",
       "      <td>2018-02-19 17:21:00</td>\n",
       "      <td>2</td>\n",
       "      <td>2018-02-19 16:53:00</td>\n",
       "      <td>104060357244891740</td>\n",
       "    </tr>\n",
       "    <tr>\n",
       "      <td>2</td>\n",
       "      <td>touch</td>\n",
       "      <td>2017-07-01 01:54:00</td>\n",
       "      <td>5</td>\n",
       "      <td>2017-07-01 01:54:00</td>\n",
       "      <td>7459035603376831527</td>\n",
       "    </tr>\n",
       "    <tr>\n",
       "      <td>3</td>\n",
       "      <td>desktop</td>\n",
       "      <td>2018-05-20 11:23:00</td>\n",
       "      <td>9</td>\n",
       "      <td>2018-05-20 10:59:00</td>\n",
       "      <td>16174680259334210214</td>\n",
       "    </tr>\n",
       "    <tr>\n",
       "      <td>4</td>\n",
       "      <td>desktop</td>\n",
       "      <td>2017-12-27 14:06:00</td>\n",
       "      <td>3</td>\n",
       "      <td>2017-12-27 14:06:00</td>\n",
       "      <td>9969694820036681168</td>\n",
       "    </tr>\n",
       "  </tbody>\n",
       "</table>\n",
       "</div>"
      ],
      "text/plain": [
       "    device               end_ts  source_id             start_ts  \\\n",
       "0    touch  2017-12-20 17:38:00          4  2017-12-20 17:20:00   \n",
       "1  desktop  2018-02-19 17:21:00          2  2018-02-19 16:53:00   \n",
       "2    touch  2017-07-01 01:54:00          5  2017-07-01 01:54:00   \n",
       "3  desktop  2018-05-20 11:23:00          9  2018-05-20 10:59:00   \n",
       "4  desktop  2017-12-27 14:06:00          3  2017-12-27 14:06:00   \n",
       "\n",
       "                    uid  \n",
       "0  16879256277535980062  \n",
       "1    104060357244891740  \n",
       "2   7459035603376831527  \n",
       "3  16174680259334210214  \n",
       "4   9969694820036681168  "
      ]
     },
     "metadata": {},
     "output_type": "display_data"
    },
    {
     "name": "stdout",
     "output_type": "stream",
     "text": [
      "<class 'pandas.core.frame.DataFrame'>\n",
      "RangeIndex: 359400 entries, 0 to 359399\n",
      "Data columns (total 5 columns):\n",
      "device       359400 non-null object\n",
      "end_ts       359400 non-null object\n",
      "source_id    359400 non-null int64\n",
      "start_ts     359400 non-null object\n",
      "uid          359400 non-null uint64\n",
      "dtypes: int64(1), object(3), uint64(1)\n",
      "memory usage: 13.7+ MB\n"
     ]
    }
   ],
   "source": [
    "visits.columns = [col.lower().replace(' ','_') for col in visits.columns]\n",
    "display(visits.head())\n",
    "visits.info()"
   ]
  },
  {
   "cell_type": "code",
   "execution_count": 347,
   "metadata": {},
   "outputs": [
    {
     "data": {
      "text/html": [
       "<div>\n",
       "<style scoped>\n",
       "    .dataframe tbody tr th:only-of-type {\n",
       "        vertical-align: middle;\n",
       "    }\n",
       "\n",
       "    .dataframe tbody tr th {\n",
       "        vertical-align: top;\n",
       "    }\n",
       "\n",
       "    .dataframe thead th {\n",
       "        text-align: right;\n",
       "    }\n",
       "</style>\n",
       "<table border=\"1\" class=\"dataframe\">\n",
       "  <thead>\n",
       "    <tr style=\"text-align: right;\">\n",
       "      <th></th>\n",
       "      <th>buy_ts</th>\n",
       "      <th>revenue</th>\n",
       "      <th>uid</th>\n",
       "    </tr>\n",
       "  </thead>\n",
       "  <tbody>\n",
       "    <tr>\n",
       "      <td>0</td>\n",
       "      <td>2017-06-01 00:10:00</td>\n",
       "      <td>17.00</td>\n",
       "      <td>10329302124590727494</td>\n",
       "    </tr>\n",
       "    <tr>\n",
       "      <td>1</td>\n",
       "      <td>2017-06-01 00:25:00</td>\n",
       "      <td>0.55</td>\n",
       "      <td>11627257723692907447</td>\n",
       "    </tr>\n",
       "    <tr>\n",
       "      <td>2</td>\n",
       "      <td>2017-06-01 00:27:00</td>\n",
       "      <td>0.37</td>\n",
       "      <td>17903680561304213844</td>\n",
       "    </tr>\n",
       "    <tr>\n",
       "      <td>3</td>\n",
       "      <td>2017-06-01 00:29:00</td>\n",
       "      <td>0.55</td>\n",
       "      <td>16109239769442553005</td>\n",
       "    </tr>\n",
       "    <tr>\n",
       "      <td>4</td>\n",
       "      <td>2017-06-01 07:58:00</td>\n",
       "      <td>0.37</td>\n",
       "      <td>14200605875248379450</td>\n",
       "    </tr>\n",
       "  </tbody>\n",
       "</table>\n",
       "</div>"
      ],
      "text/plain": [
       "                buy_ts  revenue                   uid\n",
       "0  2017-06-01 00:10:00    17.00  10329302124590727494\n",
       "1  2017-06-01 00:25:00     0.55  11627257723692907447\n",
       "2  2017-06-01 00:27:00     0.37  17903680561304213844\n",
       "3  2017-06-01 00:29:00     0.55  16109239769442553005\n",
       "4  2017-06-01 07:58:00     0.37  14200605875248379450"
      ]
     },
     "metadata": {},
     "output_type": "display_data"
    },
    {
     "name": "stdout",
     "output_type": "stream",
     "text": [
      "<class 'pandas.core.frame.DataFrame'>\n",
      "RangeIndex: 50415 entries, 0 to 50414\n",
      "Data columns (total 3 columns):\n",
      "buy_ts     50415 non-null object\n",
      "revenue    50415 non-null float64\n",
      "uid        50415 non-null uint64\n",
      "dtypes: float64(1), object(1), uint64(1)\n",
      "memory usage: 1.2+ MB\n"
     ]
    }
   ],
   "source": [
    "orders.columns = [col.lower().replace(' ','_') for col in orders.columns]\n",
    "display(orders.head())\n",
    "orders.info()"
   ]
  },
  {
   "cell_type": "code",
   "execution_count": 348,
   "metadata": {},
   "outputs": [
    {
     "data": {
      "text/html": [
       "<div>\n",
       "<style scoped>\n",
       "    .dataframe tbody tr th:only-of-type {\n",
       "        vertical-align: middle;\n",
       "    }\n",
       "\n",
       "    .dataframe tbody tr th {\n",
       "        vertical-align: top;\n",
       "    }\n",
       "\n",
       "    .dataframe thead th {\n",
       "        text-align: right;\n",
       "    }\n",
       "</style>\n",
       "<table border=\"1\" class=\"dataframe\">\n",
       "  <thead>\n",
       "    <tr style=\"text-align: right;\">\n",
       "      <th></th>\n",
       "      <th>source_id</th>\n",
       "      <th>dt</th>\n",
       "      <th>costs</th>\n",
       "    </tr>\n",
       "  </thead>\n",
       "  <tbody>\n",
       "    <tr>\n",
       "      <td>0</td>\n",
       "      <td>1</td>\n",
       "      <td>2017-06-01</td>\n",
       "      <td>75.20</td>\n",
       "    </tr>\n",
       "    <tr>\n",
       "      <td>1</td>\n",
       "      <td>1</td>\n",
       "      <td>2017-06-02</td>\n",
       "      <td>62.25</td>\n",
       "    </tr>\n",
       "    <tr>\n",
       "      <td>2</td>\n",
       "      <td>1</td>\n",
       "      <td>2017-06-03</td>\n",
       "      <td>36.53</td>\n",
       "    </tr>\n",
       "    <tr>\n",
       "      <td>3</td>\n",
       "      <td>1</td>\n",
       "      <td>2017-06-04</td>\n",
       "      <td>55.00</td>\n",
       "    </tr>\n",
       "    <tr>\n",
       "      <td>4</td>\n",
       "      <td>1</td>\n",
       "      <td>2017-06-05</td>\n",
       "      <td>57.08</td>\n",
       "    </tr>\n",
       "  </tbody>\n",
       "</table>\n",
       "</div>"
      ],
      "text/plain": [
       "   source_id          dt  costs\n",
       "0          1  2017-06-01  75.20\n",
       "1          1  2017-06-02  62.25\n",
       "2          1  2017-06-03  36.53\n",
       "3          1  2017-06-04  55.00\n",
       "4          1  2017-06-05  57.08"
      ]
     },
     "metadata": {},
     "output_type": "display_data"
    },
    {
     "name": "stdout",
     "output_type": "stream",
     "text": [
      "<class 'pandas.core.frame.DataFrame'>\n",
      "RangeIndex: 2542 entries, 0 to 2541\n",
      "Data columns (total 3 columns):\n",
      "source_id    2542 non-null int64\n",
      "dt           2542 non-null object\n",
      "costs        2542 non-null float64\n",
      "dtypes: float64(1), int64(1), object(1)\n",
      "memory usage: 59.7+ KB\n"
     ]
    }
   ],
   "source": [
    "display(costs.head())\n",
    "costs.info()"
   ]
  },
  {
   "cell_type": "code",
   "execution_count": 349,
   "metadata": {},
   "outputs": [],
   "source": [
    "visits['end_ts'] = pd.to_datetime(visits['end_ts'])\n",
    "visits['start_ts'] = pd.to_datetime(visits['start_ts'])\n",
    "orders['buy_ts'] = pd.to_datetime(orders['buy_ts'])\n",
    "costs['dt'] = pd.to_datetime(costs['dt'])"
   ]
  },
  {
   "cell_type": "markdown",
   "metadata": {},
   "source": [
    "**Промежуточные выводы**: в данных отсутствуют пропуски, названия столбцов приведены к единому формату. Можно продолжать работу с данными."
   ]
  },
  {
   "cell_type": "markdown",
   "metadata": {},
   "source": [
    "## 2. Построение отчетов и расчет метрик"
   ]
  },
  {
   "cell_type": "markdown",
   "metadata": {},
   "source": [
    "### Продукт"
   ]
  },
  {
   "cell_type": "code",
   "execution_count": 350,
   "metadata": {},
   "outputs": [
    {
     "name": "stdout",
     "output_type": "stream",
     "text": [
      "Кол-во уникальных пользователей в день: 907\n",
      "Кол-во уникальных пользователей в неделю: 5716\n",
      "Кол-во уникальных пользователей в месяц: 23228\n"
     ]
    }
   ],
   "source": [
    "#Сколько людей пользуются в день, неделю, месяц?\n",
    "\n",
    "visits['session_year']  = visits['start_ts'].dt.year\n",
    "visits['session_month'] = visits['start_ts'].dt.month\n",
    "visits['session_week']  = visits['start_ts'].dt.week\n",
    "visits['session_date'] = visits['start_ts'].dt.date\n",
    "\n",
    "dau_total = visits.groupby('session_date').agg({'uid': 'nunique'}).mean()\n",
    "wau_total = visits.groupby(['session_year', 'session_week']).agg({'uid': 'nunique'}).mean()\n",
    "mau_total = visits.groupby(['session_year', 'session_month']).agg({'uid': 'nunique'}).mean()\n",
    "print('Кол-во уникальных пользователей в день:',int(dau_total))\n",
    "print('Кол-во уникальных пользователей в неделю:',int(wau_total))\n",
    "print('Кол-во уникальных пользователей в месяц:',int(mau_total))"
   ]
  },
  {
   "cell_type": "code",
   "execution_count": 351,
   "metadata": {},
   "outputs": [
    {
     "data": {
      "image/png": "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\n",
      "text/plain": [
       "<Figure size 432x288 with 1 Axes>"
      ]
     },
     "metadata": {},
     "output_type": "display_data"
    }
   ],
   "source": [
    "ax=visits.groupby('device').agg({'uid': 'nunique'}).plot(kind='bar')\n",
    "\n",
    "ax.set_title('Соотношение использования устройств')\n",
    "ax.set_ylabel('Кол-во использований')\n",
    "ax.set_xlabel('Устройство')\n",
    "\n",
    "plt.show()"
   ]
  },
  {
   "cell_type": "markdown",
   "metadata": {},
   "source": [
    "**Промежуточные выводы**: с ПК на сайт заходит почти в 2 раза больше пользователей, чем с мобильных устройств."
   ]
  },
  {
   "cell_type": "code",
   "execution_count": 352,
   "metadata": {},
   "outputs": [
    {
     "data": {
      "image/png": "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\n",
      "text/plain": [
       "<Figure size 432x288 with 1 Axes>"
      ]
     },
     "metadata": {},
     "output_type": "display_data"
    }
   ],
   "source": [
    "visits_by_divice = visits\n",
    "visits_by_divice['dow'] = pd.to_datetime(visits_by_divice['session_date'])\n",
    "visits_by_divice['dow'] = visits_by_divice['dow'].dt.dayofweek\n",
    "\n",
    "ax=(visits_by_divice\n",
    ".query('device==\"desktop\"').pivot_table(columns='dow', values='device', aggfunc='count')\n",
    "    .T.plot(kind='bar', alpha=0.7))\n",
    "\n",
    "(visits_by_divice.query('device==\"touch\"').pivot_table(columns='dow', values='device', aggfunc='count')\n",
    ".T.plot(ax=ax,kind='bar',facecolor='tab:orange', alpha=0.7))\n",
    "\n",
    "ax.legend(['desktop','touch'])\n",
    "\n",
    "ax.set_title('Соотношение использования устройств по дням недели')\n",
    "ax.set_ylabel('Кол-во использований')\n",
    "ax.set_xlabel('День недели')\n",
    "\n",
    "plt.show()"
   ]
  },
  {
   "cell_type": "markdown",
   "metadata": {},
   "source": [
    "**Промежуточные выводы**: При просмотре статистики по дням недели тенденция сохраняется (посещения с ПК преобладают), но доля заходов с компьютеров падает в выходные, в то время как посещения с мобильных устройств стабильны на протяжении всей недели."
   ]
  },
  {
   "cell_type": "code",
   "execution_count": 353,
   "metadata": {},
   "outputs": [
    {
     "data": {
      "text/plain": [
       "count    364.000000\n",
       "mean       1.082170\n",
       "std        0.020876\n",
       "min        1.000000\n",
       "25%        1.070321\n",
       "50%        1.082488\n",
       "75%        1.093876\n",
       "max        1.217837\n",
       "Name: sess_per_user, dtype: float64"
      ]
     },
     "metadata": {},
     "output_type": "display_data"
    },
    {
     "name": "stdout",
     "output_type": "stream",
     "text": [
      "Среднее кол-во сессий на юзера в день: 1.082169644003972\n"
     ]
    }
   ],
   "source": [
    "#Сколько сессий в день?\n",
    "\n",
    "sessions_per_user = visits.groupby(['session_year', 'session_date']).agg({'uid': ['count','nunique']})\n",
    "sessions_per_user.columns = ['n_sessions', 'n_users']\n",
    "sessions_per_user['sess_per_user'] = sessions_per_user['n_sessions'] / sessions_per_user['n_users']\n",
    "display(sessions_per_user['sess_per_user'].describe())\n",
    "print('Среднее кол-во сессий на юзера в день:',sessions_per_user['sess_per_user'].mean())"
   ]
  },
  {
   "cell_type": "code",
   "execution_count": 354,
   "metadata": {},
   "outputs": [
    {
     "name": "stdout",
     "output_type": "stream",
     "text": [
      "0    60\n",
      "dtype: int64\n"
     ]
    },
    {
     "data": {
      "image/png": "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\n",
      "text/plain": [
       "<Figure size 432x288 with 1 Axes>"
      ]
     },
     "metadata": {},
     "output_type": "display_data"
    }
   ],
   "source": [
    "#Сколько длится одна сессия?\n",
    "\n",
    "visits['session_duration_sec'] = (visits['end_ts'] - visits['start_ts']).dt.seconds\n",
    "visits['session_duration_sec'].hist(bins=17,range=(0,1000))\n",
    "asl = visits['session_duration_sec'].mode()\n",
    "print(asl)"
   ]
  },
  {
   "cell_type": "code",
   "execution_count": 355,
   "metadata": {},
   "outputs": [
    {
     "data": {
      "image/png": "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\n",
      "text/plain": [
       "<Figure size 432x288 with 1 Axes>"
      ]
     },
     "metadata": {},
     "output_type": "display_data"
    }
   ],
   "source": [
    "ax=visits.query('device==\"desktop\"')['session_duration_sec'].hist(bins=17,range=(0,1000))\n",
    "visits.query('device==\"touch\"')['session_duration_sec'].hist(bins=17,range=(0,1000),ax=ax)\n",
    "\n",
    "ax.legend(['desktop','touch'])\n",
    "\n",
    "ax.set_title('Соотношение продолжительности сессии по устройствам')\n",
    "ax.set_ylabel('Кол-во сессий')\n",
    "ax.set_xlabel('Продолжительность сессии')\n",
    "\n",
    "plt.show()"
   ]
  },
  {
   "cell_type": "markdown",
   "metadata": {},
   "source": [
    "**Промежуточные выводы**: Средняя продолжительность сессии (ASL) показывает, сколько длится сессия пользователя в среднем.\n",
    "Когда распределение близко к нормальному или нормальное — можно смотреть на среднюю или медиану. Наше — не из таких, рассчитаем моду (значение в выборке, которое встречается чаще всего).\n",
    "В нашем случае ASL равно одной минуте.\n",
    "\n",
    "\n",
    "В среднем пользователь заходит на сайт один раз день (продолжительность сессий с ПК дольше, чем продолжительность сессий на мобильных устройствах)."
   ]
  },
  {
   "cell_type": "code",
   "execution_count": 356,
   "metadata": {},
   "outputs": [],
   "source": [
    "# Как часто люди возвращаются?\n",
    "\n",
    "first_activity_date = visits.groupby(['uid'])['start_ts'].min()\n",
    "first_activity_date.name = 'first_activity_date'\n",
    "visits = visits.join(first_activity_date,on='uid')"
   ]
  },
  {
   "cell_type": "code",
   "execution_count": 357,
   "metadata": {},
   "outputs": [
    {
     "data": {
      "image/png": "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\n",
      "text/plain": [
       "<Figure size 936x648 with 2 Axes>"
      ]
     },
     "metadata": {},
     "output_type": "display_data"
    }
   ],
   "source": [
    "visits['activity_month'] = visits['start_ts'].astype('datetime64[M]')\n",
    "visits['first_activity_month'] = visits['first_activity_date'].astype('datetime64[M]')\n",
    "visits['cohort_lifetime'] = visits['activity_month'] - visits['first_activity_month']\n",
    "visits['cohort_lifetime'] = visits['cohort_lifetime'] / np.timedelta64(1,'M')\n",
    "visits['cohort_lifetime'] = visits['cohort_lifetime'].round().astype('int')\n",
    "cohorts = visits.groupby(['first_activity_month','cohort_lifetime']).agg({'uid':'nunique'}).reset_index()\n",
    "initial_users_count = cohorts[cohorts['cohort_lifetime'] == 0][['first_activity_month','uid']]\n",
    "initial_users_count = initial_users_count.rename(columns={'uid':'cohort_users'})\n",
    "cohorts = cohorts.merge(initial_users_count,on='first_activity_month')\n",
    "cohorts['retention'] = cohorts['uid']/cohorts['cohort_users']\n",
    "retention_pivot = cohorts.pivot_table(index='first_activity_month',columns='cohort_lifetime',values='retention',aggfunc='sum')\n",
    "\n",
    "sns.set(style='white')\n",
    "plt.figure(figsize=(13, 9))\n",
    "plt.title('Cohorts: User Retention')\n",
    "sns.heatmap(retention_pivot, annot=True, fmt='.1%', linewidths=0.5, linecolor='gray');"
   ]
  },
  {
   "cell_type": "markdown",
   "metadata": {},
   "source": [
    "**Промежуточные выводы**: Retention Rate (Коэффициент удержания) в первый месяц убывает по когортам с течением времени. На следующий месяц возвращается менее 10% пользователей, и показатель продолжает падать с каждым месяцем."
   ]
  },
  {
   "cell_type": "markdown",
   "metadata": {},
   "source": [
    "### Продажи"
   ]
  },
  {
   "cell_type": "code",
   "execution_count": 358,
   "metadata": {},
   "outputs": [],
   "source": [
    "orders = orders.merge(visits[['first_activity_date','uid']],on='uid')\n",
    "orders = orders.drop_duplicates().reset_index(drop=True)"
   ]
  },
  {
   "cell_type": "code",
   "execution_count": 359,
   "metadata": {},
   "outputs": [],
   "source": [
    "first_order_date = orders.groupby(['uid'])['buy_ts'].min()\n",
    "first_order_date.name = 'first_order_date'\n",
    "orders = orders.join(first_order_date,on='uid')"
   ]
  },
  {
   "cell_type": "code",
   "execution_count": 360,
   "metadata": {},
   "outputs": [
    {
     "data": {
      "text/plain": [
       "count    50415.000000\n",
       "mean        17.871308\n",
       "std         17.195414\n",
       "min          0.000000\n",
       "25%          3.000000\n",
       "50%         12.000000\n",
       "75%         30.000000\n",
       "max         59.000000\n",
       "Name: buy_session_duration_sec, dtype: float64"
      ]
     },
     "execution_count": 360,
     "metadata": {},
     "output_type": "execute_result"
    },
    {
     "data": {
      "image/png": "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\n",
      "text/plain": [
       "<Figure size 432x288 with 1 Axes>"
      ]
     },
     "metadata": {},
     "output_type": "display_data"
    }
   ],
   "source": [
    "#Когда люди начинают покупать?\n",
    "\n",
    "orders['buy_session_duration_sec'] = pd.to_datetime(orders['first_order_date'] - orders['first_activity_date']).dt.minute\n",
    "orders['buy_session_duration_sec'].hist(bins=20)\n",
    "orders['buy_session_duration_sec'].describe()"
   ]
  },
  {
   "cell_type": "markdown",
   "metadata": {},
   "source": [
    "**Промежуточные выводы**:В среднем, у пользователя иходит 17 минут с момента зайхода на сайт до момента первой покупки. Так же высока доля коротких покупок."
   ]
  },
  {
   "cell_type": "code",
   "execution_count": 361,
   "metadata": {},
   "outputs": [
    {
     "data": {
      "text/html": [
       "<div>\n",
       "<style scoped>\n",
       "    .dataframe tbody tr th:only-of-type {\n",
       "        vertical-align: middle;\n",
       "    }\n",
       "\n",
       "    .dataframe tbody tr th {\n",
       "        vertical-align: top;\n",
       "    }\n",
       "\n",
       "    .dataframe thead th {\n",
       "        text-align: right;\n",
       "    }\n",
       "</style>\n",
       "<table border=\"1\" class=\"dataframe\">\n",
       "  <thead>\n",
       "    <tr style=\"text-align: right;\">\n",
       "      <th></th>\n",
       "      <th>uid</th>\n",
       "    </tr>\n",
       "  </thead>\n",
       "  <tbody>\n",
       "    <tr>\n",
       "      <td>count</td>\n",
       "      <td>36523.000000</td>\n",
       "    </tr>\n",
       "    <tr>\n",
       "      <td>mean</td>\n",
       "      <td>1.380363</td>\n",
       "    </tr>\n",
       "    <tr>\n",
       "      <td>std</td>\n",
       "      <td>3.454461</td>\n",
       "    </tr>\n",
       "    <tr>\n",
       "      <td>min</td>\n",
       "      <td>1.000000</td>\n",
       "    </tr>\n",
       "    <tr>\n",
       "      <td>25%</td>\n",
       "      <td>1.000000</td>\n",
       "    </tr>\n",
       "    <tr>\n",
       "      <td>50%</td>\n",
       "      <td>1.000000</td>\n",
       "    </tr>\n",
       "    <tr>\n",
       "      <td>75%</td>\n",
       "      <td>1.000000</td>\n",
       "    </tr>\n",
       "    <tr>\n",
       "      <td>max</td>\n",
       "      <td>239.000000</td>\n",
       "    </tr>\n",
       "  </tbody>\n",
       "</table>\n",
       "</div>"
      ],
      "text/plain": [
       "                uid\n",
       "count  36523.000000\n",
       "mean       1.380363\n",
       "std        3.454461\n",
       "min        1.000000\n",
       "25%        1.000000\n",
       "50%        1.000000\n",
       "75%        1.000000\n",
       "max      239.000000"
      ]
     },
     "metadata": {},
     "output_type": "display_data"
    },
    {
     "data": {
      "text/plain": [
       "uid    50415\n",
       "dtype: int64"
      ]
     },
     "metadata": {},
     "output_type": "display_data"
    },
    {
     "name": "stdout",
     "output_type": "stream",
     "text": [
      "В среднем, каждый пользователь совершает 1 покупку\n"
     ]
    }
   ],
   "source": [
    "# Сколько раз покупают за период?\n",
    "\n",
    "orders['order_month'] = orders['buy_ts'].astype('datetime64[M]')\n",
    "display(orders.groupby('uid').agg({'uid':'count'}).describe())\n",
    "display(orders.groupby('uid').agg({'uid':'count'}).sum())\n",
    "print('В среднем, каждый пользователь совершает',int(orders.groupby('uid').agg({'uid':'count'}).median()),'покупку')"
   ]
  },
  {
   "cell_type": "markdown",
   "metadata": {},
   "source": [
    "Один из пользователей совершил 239 покупок (около 0,5% от общего числа)."
   ]
  },
  {
   "cell_type": "code",
   "execution_count": 362,
   "metadata": {},
   "outputs": [
    {
     "data": {
      "text/plain": [
       "count    50415.000000\n",
       "mean         4.999647\n",
       "std         21.818359\n",
       "min          0.000000\n",
       "25%          1.220000\n",
       "50%          2.500000\n",
       "75%          4.890000\n",
       "max       2633.280000\n",
       "Name: revenue, dtype: float64"
      ]
     },
     "execution_count": 362,
     "metadata": {},
     "output_type": "execute_result"
    }
   ],
   "source": [
    "# Какой средний чек?\n",
    "\n",
    "orders['revenue'].describe()"
   ]
  },
  {
   "cell_type": "markdown",
   "metadata": {},
   "source": [
    "Средний чек - 5 у.е. Максимальный чек - 2633.28 у.е."
   ]
  },
  {
   "cell_type": "code",
   "execution_count": 363,
   "metadata": {},
   "outputs": [
    {
     "name": "stdout",
     "output_type": "stream",
     "text": [
      "age                 0    1    2    3    4    5    6    7    8    9    10   11\n",
      "first_order_month                                                            \n",
      "2017-06-01         5.0  0.0  0.0  1.0  1.0  1.0  1.0  1.0  1.0  1.0  1.0  0.0\n",
      "2017-07-01         6.0  0.0  1.0  0.0  0.0  0.0  0.0  0.0  0.0  0.0  0.0  NaN\n",
      "2017-08-01         5.0  0.0  0.0  0.0  0.0  0.0  0.0  0.0  0.0  0.0  NaN  NaN\n",
      "2017-09-01         6.0  1.0  1.0  4.0  0.0  1.0  1.0  0.0  0.0  NaN  NaN  NaN\n",
      "2017-10-01         5.0  1.0  0.0  0.0  0.0  0.0  0.0  0.0  NaN  NaN  NaN  NaN\n",
      "2017-11-01         5.0  0.0  0.0  0.0  0.0  0.0  0.0  NaN  NaN  NaN  NaN  NaN\n",
      "2017-12-01         5.0  0.0  1.0  1.0  0.0  0.0  NaN  NaN  NaN  NaN  NaN  NaN\n",
      "2018-01-01         4.0  0.0  0.0  0.0  0.0  NaN  NaN  NaN  NaN  NaN  NaN  NaN\n",
      "2018-02-01         4.0  0.0  0.0  0.0  NaN  NaN  NaN  NaN  NaN  NaN  NaN  NaN\n",
      "2018-03-01         5.0  0.0  0.0  NaN  NaN  NaN  NaN  NaN  NaN  NaN  NaN  NaN\n",
      "2018-04-01         5.0  1.0  NaN  NaN  NaN  NaN  NaN  NaN  NaN  NaN  NaN  NaN\n",
      "2018-05-01         5.0  NaN  NaN  NaN  NaN  NaN  NaN  NaN  NaN  NaN  NaN  NaN\n",
      "2018-06-01         3.0  NaN  NaN  NaN  NaN  NaN  NaN  NaN  NaN  NaN  NaN  NaN\n",
      "Средний LTV за 6 месяцев после первой покупки: 7.285714285714286\n"
     ]
    }
   ],
   "source": [
    "# Сколько денег приносят? (LTV)\n",
    "\n",
    "first_orders = orders.groupby('uid').agg({'order_month': 'min'}).reset_index()\n",
    "first_orders.columns = ['uid', 'first_order_month']\n",
    "\n",
    "cohort_sizes = first_orders.groupby('first_order_month').agg({'uid': 'nunique'}).reset_index()\n",
    "cohort_sizes.columns = ['first_order_month', 'n_buyers']\n",
    "\n",
    "margin_rate = 1\n",
    "\n",
    "orders_first_month = pd.merge(orders,first_orders, on='uid')\n",
    "cohorts = orders_first_month.groupby(['first_order_month','order_month']).agg({'revenue': 'sum'}).reset_index()\n",
    "report = pd.merge(cohort_sizes, cohorts, on='first_order_month')\n",
    "\n",
    "report['gp'] =  report['revenue'] * margin_rate\n",
    "report['age'] = ((report['order_month'] - report['first_order_month']) / np.timedelta64(1, 'M')).round().astype('int')\n",
    "report['ltv'] = report['gp'] / report['n_buyers']\n",
    "\n",
    "result = report.pivot_table(\n",
    "        index='first_order_month', \n",
    "        columns='age', \n",
    "        values='ltv', \n",
    "        aggfunc='mean').round()\n",
    "\n",
    "print(result)\n",
    "m6_cum_ltv = result.cumsum(axis=1).mean(axis=0)[5]\n",
    "print('Средний LTV за 6 месяцев после первой покупки:',m6_cum_ltv)"
   ]
  },
  {
   "cell_type": "markdown",
   "metadata": {},
   "source": [
    "Самый высокий LTV (итоговая сумма денег, которую один клиент приносит в среднем со всех своих покупок) в первый месяц в каждой когорте."
   ]
  },
  {
   "cell_type": "markdown",
   "metadata": {},
   "source": [
    "### Маркетинг"
   ]
  },
  {
   "cell_type": "code",
   "execution_count": 364,
   "metadata": {},
   "outputs": [
    {
     "name": "stdout",
     "output_type": "stream",
     "text": [
      "Всего потрачено 329131.62 у.е.\n"
     ]
    },
    {
     "data": {
      "text/html": [
       "<div>\n",
       "<style scoped>\n",
       "    .dataframe tbody tr th:only-of-type {\n",
       "        vertical-align: middle;\n",
       "    }\n",
       "\n",
       "    .dataframe tbody tr th {\n",
       "        vertical-align: top;\n",
       "    }\n",
       "\n",
       "    .dataframe thead th {\n",
       "        text-align: right;\n",
       "    }\n",
       "</style>\n",
       "<table border=\"1\" class=\"dataframe\">\n",
       "  <thead>\n",
       "    <tr style=\"text-align: right;\">\n",
       "      <th></th>\n",
       "      <th>costs</th>\n",
       "    </tr>\n",
       "    <tr>\n",
       "      <th>source_id</th>\n",
       "      <th></th>\n",
       "    </tr>\n",
       "  </thead>\n",
       "  <tbody>\n",
       "    <tr>\n",
       "      <td>1</td>\n",
       "      <td>20833.27</td>\n",
       "    </tr>\n",
       "    <tr>\n",
       "      <td>2</td>\n",
       "      <td>42806.04</td>\n",
       "    </tr>\n",
       "    <tr>\n",
       "      <td>3</td>\n",
       "      <td>141321.63</td>\n",
       "    </tr>\n",
       "    <tr>\n",
       "      <td>4</td>\n",
       "      <td>61073.60</td>\n",
       "    </tr>\n",
       "    <tr>\n",
       "      <td>5</td>\n",
       "      <td>51757.10</td>\n",
       "    </tr>\n",
       "    <tr>\n",
       "      <td>9</td>\n",
       "      <td>5517.49</td>\n",
       "    </tr>\n",
       "    <tr>\n",
       "      <td>10</td>\n",
       "      <td>5822.49</td>\n",
       "    </tr>\n",
       "  </tbody>\n",
       "</table>\n",
       "</div>"
      ],
      "text/plain": [
       "               costs\n",
       "source_id           \n",
       "1           20833.27\n",
       "2           42806.04\n",
       "3          141321.63\n",
       "4           61073.60\n",
       "5           51757.10\n",
       "9            5517.49\n",
       "10           5822.49"
      ]
     },
     "metadata": {},
     "output_type": "display_data"
    },
    {
     "data": {
      "text/html": [
       "<div>\n",
       "<style scoped>\n",
       "    .dataframe tbody tr th:only-of-type {\n",
       "        vertical-align: middle;\n",
       "    }\n",
       "\n",
       "    .dataframe tbody tr th {\n",
       "        vertical-align: top;\n",
       "    }\n",
       "\n",
       "    .dataframe thead th {\n",
       "        text-align: right;\n",
       "    }\n",
       "</style>\n",
       "<table border=\"1\" class=\"dataframe\">\n",
       "  <thead>\n",
       "    <tr style=\"text-align: right;\">\n",
       "      <th></th>\n",
       "      <th>costs</th>\n",
       "    </tr>\n",
       "    <tr>\n",
       "      <th>month</th>\n",
       "      <th></th>\n",
       "    </tr>\n",
       "  </thead>\n",
       "  <tbody>\n",
       "    <tr>\n",
       "      <td>2017-06-01</td>\n",
       "      <td>18015.00</td>\n",
       "    </tr>\n",
       "    <tr>\n",
       "      <td>2017-07-01</td>\n",
       "      <td>18240.59</td>\n",
       "    </tr>\n",
       "    <tr>\n",
       "      <td>2017-08-01</td>\n",
       "      <td>14790.54</td>\n",
       "    </tr>\n",
       "    <tr>\n",
       "      <td>2017-09-01</td>\n",
       "      <td>24368.91</td>\n",
       "    </tr>\n",
       "    <tr>\n",
       "      <td>2017-10-01</td>\n",
       "      <td>36322.88</td>\n",
       "    </tr>\n",
       "    <tr>\n",
       "      <td>2017-11-01</td>\n",
       "      <td>37907.88</td>\n",
       "    </tr>\n",
       "    <tr>\n",
       "      <td>2017-12-01</td>\n",
       "      <td>38315.35</td>\n",
       "    </tr>\n",
       "    <tr>\n",
       "      <td>2018-01-01</td>\n",
       "      <td>33518.52</td>\n",
       "    </tr>\n",
       "    <tr>\n",
       "      <td>2018-02-01</td>\n",
       "      <td>32723.03</td>\n",
       "    </tr>\n",
       "    <tr>\n",
       "      <td>2018-03-01</td>\n",
       "      <td>30415.27</td>\n",
       "    </tr>\n",
       "    <tr>\n",
       "      <td>2018-04-01</td>\n",
       "      <td>22289.38</td>\n",
       "    </tr>\n",
       "    <tr>\n",
       "      <td>2018-05-01</td>\n",
       "      <td>22224.27</td>\n",
       "    </tr>\n",
       "  </tbody>\n",
       "</table>\n",
       "</div>"
      ],
      "text/plain": [
       "               costs\n",
       "month               \n",
       "2017-06-01  18015.00\n",
       "2017-07-01  18240.59\n",
       "2017-08-01  14790.54\n",
       "2017-09-01  24368.91\n",
       "2017-10-01  36322.88\n",
       "2017-11-01  37907.88\n",
       "2017-12-01  38315.35\n",
       "2018-01-01  33518.52\n",
       "2018-02-01  32723.03\n",
       "2018-03-01  30415.27\n",
       "2018-04-01  22289.38\n",
       "2018-05-01  22224.27"
      ]
     },
     "metadata": {},
     "output_type": "display_data"
    }
   ],
   "source": [
    "# Сколько денег потратили? Всего \n",
    "\n",
    "print('Всего потрачено',costs['costs'].sum(),'у.е.')\n",
    "# Сколько денег потратили? на каждый источник\n",
    "display(costs.groupby('source_id').agg({'costs':'sum'}))\n",
    "# Сколько денег потратили? по времени\n",
    "costs['month'] = costs['dt'].astype('datetime64[M]')\n",
    "display(costs.groupby('month').agg({'costs':'sum'}))"
   ]
  },
  {
   "cell_type": "code",
   "execution_count": 365,
   "metadata": {},
   "outputs": [
    {
     "data": {
      "text/html": [
       "<div>\n",
       "<style scoped>\n",
       "    .dataframe tbody tr th:only-of-type {\n",
       "        vertical-align: middle;\n",
       "    }\n",
       "\n",
       "    .dataframe tbody tr th {\n",
       "        vertical-align: top;\n",
       "    }\n",
       "\n",
       "    .dataframe thead th {\n",
       "        text-align: right;\n",
       "    }\n",
       "</style>\n",
       "<table border=\"1\" class=\"dataframe\">\n",
       "  <thead>\n",
       "    <tr style=\"text-align: right;\">\n",
       "      <th></th>\n",
       "      <th>uid</th>\n",
       "      <th>costs</th>\n",
       "      <th>cac</th>\n",
       "    </tr>\n",
       "  </thead>\n",
       "  <tbody>\n",
       "    <tr>\n",
       "      <td>1</td>\n",
       "      <td>5223</td>\n",
       "      <td>20833.27</td>\n",
       "      <td>3.988756</td>\n",
       "    </tr>\n",
       "    <tr>\n",
       "      <td>2</td>\n",
       "      <td>6392</td>\n",
       "      <td>42806.04</td>\n",
       "      <td>6.696815</td>\n",
       "    </tr>\n",
       "    <tr>\n",
       "      <td>3</td>\n",
       "      <td>13289</td>\n",
       "      <td>141321.63</td>\n",
       "      <td>10.634482</td>\n",
       "    </tr>\n",
       "    <tr>\n",
       "      <td>4</td>\n",
       "      <td>12895</td>\n",
       "      <td>61073.60</td>\n",
       "      <td>4.736223</td>\n",
       "    </tr>\n",
       "    <tr>\n",
       "      <td>5</td>\n",
       "      <td>9406</td>\n",
       "      <td>51757.10</td>\n",
       "      <td>5.502562</td>\n",
       "    </tr>\n",
       "    <tr>\n",
       "      <td>9</td>\n",
       "      <td>1647</td>\n",
       "      <td>5517.49</td>\n",
       "      <td>3.350024</td>\n",
       "    </tr>\n",
       "    <tr>\n",
       "      <td>10</td>\n",
       "      <td>1562</td>\n",
       "      <td>5822.49</td>\n",
       "      <td>3.727586</td>\n",
       "    </tr>\n",
       "  </tbody>\n",
       "</table>\n",
       "</div>"
      ],
      "text/plain": [
       "      uid      costs        cac\n",
       "1    5223   20833.27   3.988756\n",
       "2    6392   42806.04   6.696815\n",
       "3   13289  141321.63  10.634482\n",
       "4   12895   61073.60   4.736223\n",
       "5    9406   51757.10   5.502562\n",
       "9    1647    5517.49   3.350024\n",
       "10   1562    5822.49   3.727586"
      ]
     },
     "execution_count": 365,
     "metadata": {},
     "output_type": "execute_result"
    }
   ],
   "source": [
    "# Сколько стоило привлечение одного покупателя из каждого источника?\n",
    "\n",
    "visits_by_source = visits.sort_values(by='start_ts').groupby(['uid'])['source_id'].first()\n",
    "visits_by_source.name = 'first_source'\n",
    "visits = visits.join(visits_by_source,on='uid')\n",
    "orders_by_source = orders.join(visits_by_source,on='uid')\n",
    "\n",
    "orders_group_by_source = orders_by_source.groupby('first_source').agg({'uid':'count'})\n",
    "costs_group_by_source = costs.groupby('source_id').agg({'costs':'sum'})\n",
    "\n",
    "costs_by_user = orders_group_by_source.merge(costs_group_by_source, left_index=True, right_index=True)\n",
    "costs_by_user['cac'] = costs_by_user['costs'] / costs_by_user['uid']\n",
    "costs_by_user"
   ]
  },
  {
   "cell_type": "markdown",
   "metadata": {},
   "source": [
    "**Промежуточные выводы**: Самый дорогой источник - №3, привлечение обходится более чем в 10 у.е. на пользователя."
   ]
  },
  {
   "cell_type": "code",
   "execution_count": 366,
   "metadata": {},
   "outputs": [
    {
     "data": {
      "text/html": [
       "<div>\n",
       "<style scoped>\n",
       "    .dataframe tbody tr th:only-of-type {\n",
       "        vertical-align: middle;\n",
       "    }\n",
       "\n",
       "    .dataframe tbody tr th {\n",
       "        vertical-align: top;\n",
       "    }\n",
       "\n",
       "    .dataframe thead th {\n",
       "        text-align: right;\n",
       "    }\n",
       "</style>\n",
       "<table border=\"1\" class=\"dataframe\">\n",
       "  <thead>\n",
       "    <tr style=\"text-align: right;\">\n",
       "      <th></th>\n",
       "      <th>revenue</th>\n",
       "      <th>uid</th>\n",
       "      <th>costs</th>\n",
       "      <th>cac</th>\n",
       "      <th>ltv</th>\n",
       "      <th>roi</th>\n",
       "    </tr>\n",
       "  </thead>\n",
       "  <tbody>\n",
       "    <tr>\n",
       "      <td>1</td>\n",
       "      <td>31090.55</td>\n",
       "      <td>5223</td>\n",
       "      <td>20833.27</td>\n",
       "      <td>3.988756</td>\n",
       "      <td>5.952623</td>\n",
       "      <td>1.492351</td>\n",
       "    </tr>\n",
       "    <tr>\n",
       "      <td>2</td>\n",
       "      <td>46923.61</td>\n",
       "      <td>6392</td>\n",
       "      <td>42806.04</td>\n",
       "      <td>6.696815</td>\n",
       "      <td>7.340990</td>\n",
       "      <td>1.096191</td>\n",
       "    </tr>\n",
       "    <tr>\n",
       "      <td>3</td>\n",
       "      <td>54511.24</td>\n",
       "      <td>13289</td>\n",
       "      <td>141321.63</td>\n",
       "      <td>10.634482</td>\n",
       "      <td>4.101982</td>\n",
       "      <td>0.385725</td>\n",
       "    </tr>\n",
       "    <tr>\n",
       "      <td>4</td>\n",
       "      <td>56696.83</td>\n",
       "      <td>12895</td>\n",
       "      <td>61073.60</td>\n",
       "      <td>4.736223</td>\n",
       "      <td>4.396807</td>\n",
       "      <td>0.928336</td>\n",
       "    </tr>\n",
       "    <tr>\n",
       "      <td>5</td>\n",
       "      <td>52624.02</td>\n",
       "      <td>9406</td>\n",
       "      <td>51757.10</td>\n",
       "      <td>5.502562</td>\n",
       "      <td>5.594729</td>\n",
       "      <td>1.016750</td>\n",
       "    </tr>\n",
       "    <tr>\n",
       "      <td>9</td>\n",
       "      <td>5759.40</td>\n",
       "      <td>1647</td>\n",
       "      <td>5517.49</td>\n",
       "      <td>3.350024</td>\n",
       "      <td>3.496903</td>\n",
       "      <td>1.043844</td>\n",
       "    </tr>\n",
       "    <tr>\n",
       "      <td>10</td>\n",
       "      <td>4450.33</td>\n",
       "      <td>1562</td>\n",
       "      <td>5822.49</td>\n",
       "      <td>3.727586</td>\n",
       "      <td>2.849123</td>\n",
       "      <td>0.764335</td>\n",
       "    </tr>\n",
       "  </tbody>\n",
       "</table>\n",
       "</div>"
      ],
      "text/plain": [
       "     revenue    uid      costs        cac       ltv       roi\n",
       "1   31090.55   5223   20833.27   3.988756  5.952623  1.492351\n",
       "2   46923.61   6392   42806.04   6.696815  7.340990  1.096191\n",
       "3   54511.24  13289  141321.63  10.634482  4.101982  0.385725\n",
       "4   56696.83  12895   61073.60   4.736223  4.396807  0.928336\n",
       "5   52624.02   9406   51757.10   5.502562  5.594729  1.016750\n",
       "9    5759.40   1647    5517.49   3.350024  3.496903  1.043844\n",
       "10   4450.33   1562    5822.49   3.727586  2.849123  0.764335"
      ]
     },
     "execution_count": 366,
     "metadata": {},
     "output_type": "execute_result"
    }
   ],
   "source": [
    "#На сколько окупились расходы? (ROI)\n",
    "\n",
    "orders_grouped = orders_by_source.groupby('first_source').agg({'revenue':'sum'})\n",
    "pivot_by_user = orders_grouped.merge(costs_by_user, left_index=True, right_index=True)\n",
    "pivot_by_user['ltv'] = pivot_by_user['revenue'] / pivot_by_user['uid']\n",
    "pivot_by_user['roi'] = pivot_by_user['ltv'] / costs_by_user['cac']\n",
    "pivot_by_user"
   ]
  },
  {
   "cell_type": "markdown",
   "metadata": {},
   "source": [
    "**Промежуточные выводы**: только у 4 источников ROI>1 (окупаются маркетинговые затраты). Так же присутствуют пользователи (незначительное кол-во), которые были привлечены из 7 источника (возможно, больше не продвигается)."
   ]
  },
  {
   "cell_type": "code",
   "execution_count": 367,
   "metadata": {},
   "outputs": [
    {
     "data": {
      "image/png": "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\n",
      "text/plain": [
       "<Figure size 432x288 with 1 Axes>"
      ]
     },
     "metadata": {},
     "output_type": "display_data"
    }
   ],
   "source": [
    "ax=pivot_by_user.pivot_table(columns=pivot_by_user.index, values=['ltv','cac']).T.plot(kind='bar', alpha=0.7)\n",
    "ax.set_title('Соотношение CAC и LTV по источникам трафика')\n",
    "ax.set_ylabel('У.е. на пользователя')\n",
    "ax.set_xlabel('Источник')\n",
    "plt.show()"
   ]
  },
  {
   "cell_type": "markdown",
   "metadata": {},
   "source": [
    "## 3. Общий вывод"
   ]
  },
  {
   "cell_type": "markdown",
   "metadata": {},
   "source": [
    "В рамках исследования были рассмотренны данные о посещениях и поккупках на сайте Яндекс.Афиша.\n",
    "\n",
    "Обзор данных показал, что большинство пользователей сайта пользуется ПК версией сайта (2/3 пользователей). В среднем, пользователь проводит на сайте около минуты (сесси у пользователей компьютеров более долгие, чем у пользователей смартфонов).\n",
    "С момента первого посещения сайта до первого заказа у рядового пользователя проходит, в среднем, 17 минут.\n",
    "\n",
    "Retention Rate низний (не превышает 10% и падает каждый месяц) для всех рассмотренных когорт (анализ проведен по месяцам). Пользователи часто совершают покупку в первом месяце и больше не возвращаются. Необходимо разработать стратегию удержания клиентов.\n",
    "\n",
    "Привлечение пользователей просиходит по 7 основным каналам, только 4 из которых окупаются.\n",
    "Рассмотрены показатели CAC и LTV для каждого источника привлечения. На основе полученных данных расчитан показатель ROI (окупаемость затрат).\n",
    "**Рекомендуется обратить внимание на источник №3 - самый убыточный (окупается только 40% вложений)**. Источники 1,2,5,9 имеют положительную динамику **(№1 самый выгодный - ROI=1.49). Именно в эти источники следует вкладывать ДС на продвижение (предпочтительна реклама для ПК пользователей).**"
   ]
  }
 ],
 "metadata": {
  "kernelspec": {
   "display_name": "Python 3",
   "language": "python",
   "name": "python3"
  },
  "language_info": {
   "codemirror_mode": {
    "name": "ipython",
    "version": 3
   },
   "file_extension": ".py",
   "mimetype": "text/x-python",
   "name": "python",
   "nbconvert_exporter": "python",
   "pygments_lexer": "ipython3",
   "version": "3.7.6"
  }
 },
 "nbformat": 4,
 "nbformat_minor": 2
}
